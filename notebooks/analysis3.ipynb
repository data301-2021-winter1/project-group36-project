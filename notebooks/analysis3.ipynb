{
 "cells": [
  {
   "cell_type": "markdown",
   "metadata": {},
   "source": [
    "# Ethan Krahulic-Weber"
   ]
  },
  {
   "cell_type": "markdown",
   "metadata": {},
   "source": [
    "## Research question/interests\n",
    "\n",
    "Coming from a Human Kinetics/Psychology background I have become very interested in addiction, as it causes serious health detriments for those who suffer from it. Preventitive measures have been taken over time to try to combat addiction and I am interested in seeing if I can find qauntitative data showing corolational progress in mitigating addiction.\n",
    "\n",
    "I am going to be analyzing changes in the prevalence of drug, alchohol, opioid and tobacco related conditions through years 2006-2012. I will be including state specific as well as national data. By measuring the changes year to year I will determine how substance abuse related conditions are trending over the analyzed time period."
   ]
  },
  {
   "cell_type": "code",
   "execution_count": 14,
   "metadata": {},
   "outputs": [],
   "source": [
    "import pandas as pd\n",
    "import numpy as np\n",
    "import seaborn as sns\n",
    "\n",
    "##Loading dataset by year\n",
    "Data06 = pd.read_excel('../data/raw/group36_MedicareData.xlsx', sheet_name='PUF_2006', header=1)\n",
    "Data07 = pd.read_excel('../data/raw/group36_MedicareData.xlsx', sheet_name='PUF_2007', header=1)\n",
    "Data08 = pd.read_excel('../data/raw/group36_MedicareData.xlsx', sheet_name='PUF_2008', header=1)\n",
    "Data09 = pd.read_excel('../data/raw/group36_MedicareData.xlsx', sheet_name='PUF_2009', header=1)\n",
    "Data10 = pd.read_excel('../data/raw/group36_MedicareData.xlsx', sheet_name='PUF_2010', header=1)\n",
    "Data11 = pd.read_excel('../data/raw/group36_MedicareData.xlsx', sheet_name='PUF_2011', header=1)\n",
    "Data12 = pd.read_excel('../data/raw/group36_MedicareData.xlsx', sheet_name='PUF_2012', header=1)\n",
    "\n"
   ]
  },
  {
   "cell_type": "code",
   "execution_count": null,
   "metadata": {},
   "outputs": [],
   "source": []
  }
 ],
 "metadata": {
  "kernelspec": {
   "display_name": "Python 3 (ipykernel)",
   "language": "python",
   "name": "python3"
  },
  "language_info": {
   "codemirror_mode": {
    "name": "ipython",
    "version": 3
   },
   "file_extension": ".py",
   "mimetype": "text/x-python",
   "name": "python",
   "nbconvert_exporter": "python",
   "pygments_lexer": "ipython3",
   "version": "3.9.5"
  }
 },
 "nbformat": 4,
 "nbformat_minor": 4
}
