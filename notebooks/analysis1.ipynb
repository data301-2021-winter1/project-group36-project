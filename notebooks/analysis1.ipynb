{
 "cells": [
  {
   "cell_type": "markdown",
   "metadata": {},
   "source": [
    "# Jordan Bird"
   ]
  },
  {
   "cell_type": "markdown",
   "metadata": {},
   "source": [
    "## Research question/interests\n",
    "\n",
    "Coming from a health sciences background, I’m interested in looking at a couple of different angles of this dataset:\n",
    "\n",
    "I am interested in looking at the trends of cardiovascular disease (i.e., atrial fibrillation, heart failure, hypertension, ischemia heart disease, stroke or TIA) in the five US regions (i.e., West, Midwest, Southwest, Southeast, Northeast) and how it has changed over the 6 years of 2006-2012.\n",
    "\n",
    "1)\tTo determine if disease is diminishing over time with greater knowledge in healthcare or whether prevalence is going up.\n",
    "2)\tWhether there are certain states that have a higher prevalence of disease or affliction over time\n",
    "3)\tWhat percentage of disease occurs in marginalized groups (e.g., do African Americans have a higher prevalence of diabetes compared to other groups)\n",
    "4)\tWhat some of the spreads might be between males and females (e.g., on average men suffer more from diabetes and obstructive sleep apnea but they have a lower prevalence of mental health issues that women)."
   ]
  },
  {
   "cell_type": "code",
   "execution_count": null,
   "metadata": {},
   "outputs": [],
   "source": []
  }
 ],
 "metadata": {
  "kernelspec": {
   "display_name": "Python 3 (ipykernel)",
   "language": "python",
   "name": "python3"
  },
  "language_info": {
   "codemirror_mode": {
    "name": "ipython",
    "version": 3
   },
   "file_extension": ".py",
   "mimetype": "text/x-python",
   "name": "python",
   "nbconvert_exporter": "python",
   "pygments_lexer": "ipython3",
   "version": "3.9.5"
  }
 },
 "nbformat": 4,
 "nbformat_minor": 2
}
