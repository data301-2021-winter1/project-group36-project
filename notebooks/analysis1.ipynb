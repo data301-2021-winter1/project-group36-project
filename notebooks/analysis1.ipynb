{
 "cells": [
  {
   "cell_type": "markdown",
   "metadata": {},
   "source": [
    "# Jordan Bird"
   ]
  },
  {
   "cell_type": "markdown",
   "metadata": {
    "tags": []
   },
   "source": [
    "## Research question/interests\n",
    "\n",
    "Coming from a health sciences background, I’m interested in looking at a couple of different angles of this dataset:\n",
    "\n",
    "I am interested in looking at the trends of cardiovascular disease (i.e., atrial fibrillation, heart failure, hypertension, ischemia heart disease, stroke or TIA) in the five US regions (i.e., West, Midwest, Southwest, Southeast, Northeast) and how it has changed over the 6 years of 2006-2012. This is the first step before correlating it to utilization of Medicare and Medicaid services to determine what percentage of the overall healthcare system is from cardiovascular disease. Hopefully we will be able to pinpoint areas of higher cardiovascular risk and tie it into historical census data for why higher cardiovascular disease rates may be higher in some areas of the country."
   ]
  },
  {
   "cell_type": "code",
   "execution_count": 1,
   "metadata": {},
   "outputs": [],
   "source": [
    "import pandas as pd\n",
    "import numpy as np\n",
    "import matplotlib.pyplot as plt\n",
    "import seaborn as sns\n",
    "import project_functions1 as p1"
   ]
  },
  {
   "cell_type": "markdown",
   "metadata": {},
   "source": [
    "## Data Cleaning"
   ]
  },
  {
   "cell_type": "code",
   "execution_count": 2,
   "metadata": {},
   "outputs": [],
   "source": [
    "p1.connecting_unprocessed('../data/raw/group36_MedicareData.xlsx')"
   ]
  },
  {
   "cell_type": "code",
   "execution_count": 2,
   "metadata": {},
   "outputs": [],
   "source": [
    "dfu = p1.unprocessed('../data/raw/data.csv')"
   ]
  },
  {
   "cell_type": "markdown",
   "metadata": {},
   "source": [
    "#### Data Cleaning - Adding State Region column"
   ]
  },
  {
   "cell_type": "code",
   "execution_count": 3,
   "metadata": {},
   "outputs": [],
   "source": [
    "dfu = p1.add_region_column(dfu)"
   ]
  },
  {
   "cell_type": "markdown",
   "metadata": {},
   "source": [
    "#### Data Cleaning - Renaming columns"
   ]
  },
  {
   "cell_type": "code",
   "execution_count": 4,
   "metadata": {},
   "outputs": [],
   "source": [
    "dfu = p1.rename_data(dfu)"
   ]
  },
  {
   "cell_type": "markdown",
   "metadata": {},
   "source": [
    "#### Data Cleaning - Remove columns"
   ]
  },
  {
   "cell_type": "code",
   "execution_count": 5,
   "metadata": {},
   "outputs": [],
   "source": [
    "dfu = p1.remove_columns(dfu)"
   ]
  },
  {
   "cell_type": "markdown",
   "metadata": {},
   "source": [
    "#### Data Cleaning - Replace missing values with NaN"
   ]
  },
  {
   "cell_type": "code",
   "execution_count": 6,
   "metadata": {},
   "outputs": [],
   "source": [
    "dfu = p1.missing_values(dfu)"
   ]
  },
  {
   "cell_type": "markdown",
   "metadata": {},
   "source": [
    "#### Data Cleaning - Write .csv file to processed data folder"
   ]
  },
  {
   "cell_type": "code",
   "execution_count": 7,
   "metadata": {},
   "outputs": [],
   "source": [
    "dfu.to_csv('../data/processed/c_data.csv', sep=',', na_rep='', index=False)"
   ]
  },
  {
   "cell_type": "markdown",
   "metadata": {},
   "source": [
    "## Process Data"
   ]
  },
  {
   "cell_type": "code",
   "execution_count": 15,
   "metadata": {},
   "outputs": [],
   "source": [
    "dfc = p1.cleaned_data('../data/processed/c_data.csv')"
   ]
  },
  {
   "cell_type": "markdown",
   "metadata": {},
   "source": []
  },
  {
   "cell_type": "markdown",
   "metadata": {},
   "source": [
    "## Exploratory Data Analysis"
   ]
  },
  {
   "cell_type": "code",
   "execution_count": 10,
   "metadata": {},
   "outputs": [
    {
     "name": "stdout",
     "output_type": "stream",
     "text": [
      "Number of rows and columns respectively: (1456, 52)\n",
      "Columns in the dataset: Index(['Year', 'State', 'Region',\n",
      "       'Number of People by Medicare-Medicaid Enrollment Type',\n",
      "       'Number of People', 'Number of People with FFS',\n",
      "       'Number of Females with FFS', 'Number of Males with FFS', 'A%_<40',\n",
      "       'A%_40-64', 'A%_65-84', 'A%_85+', 'F%', 'M%', 'White%', 'AfrA%', 'His%',\n",
      "       'Asian%', 'Indig%', 'Unknown%', 'ha%', 'af%', 'hf%', 'dm%', 'hc%',\n",
      "       'hyp%', 'ihd%', 'strokeorTIA%', 'obesity%', 'pad%',\n",
      "       'Number of FFS people who used Medicare procedures',\n",
      "       'Number of FFS people who used Medicare imaging services',\n",
      "       'Number of FFS people who used Medicare laboratory/testing services',\n",
      "       'Number of FFS people who used Medicare durable medical equipment',\n",
      "       'Number of people who used Medicare Part D prescription drugs',\n",
      "       'Total Medicare payments', 'Total Medicare IP Hospital FFS payments',\n",
      "       'Total Medicare Other IP Hospital FFS payments',\n",
      "       'Total Medicare Part B drug FFS payments',\n",
      "       'Total Medicare procedure FFS payments',\n",
      "       'Total Medicare imaging FFS payments',\n",
      "       'Total Medicare durable medical equipment FFS payments',\n",
      "       'Total Medicare Part D prescription drug FFS costs (total RX cost)',\n",
      "       'Number of FFS people who used Medicaid lab/xray services',\n",
      "       'Number of FFS people who used Medicaid durable medical equipment services',\n",
      "       'Number of FFS people who used Medicaid drugs',\n",
      "       'Number of FFS people who used Medicaid clinic services',\n",
      "       'Total Medicaid FFS payments', 'Total Medicaid lab/xray FFS payments',\n",
      "       'Total Medicaid durable medical equipment FFS payments',\n",
      "       'Total Medicaid drug FFS payments', 'Total Medicaid clinic payments'],\n",
      "      dtype='object')\n"
     ]
    }
   ],
   "source": [
    "print(\"Number of rows and columns respectively:\", dfc.shape)\n",
    "print(\"Columns in the dataset:\", dfc.columns)"
   ]
  },
  {
   "cell_type": "markdown",
   "metadata": {},
   "source": [
    "#### Cardiovascular Variable Summary"
   ]
  },
  {
   "cell_type": "code",
   "execution_count": 16,
   "metadata": {},
   "outputs": [
    {
     "data": {
      "text/html": [
       "<div>\n",
       "<style scoped>\n",
       "    .dataframe tbody tr th:only-of-type {\n",
       "        vertical-align: middle;\n",
       "    }\n",
       "\n",
       "    .dataframe tbody tr th {\n",
       "        vertical-align: top;\n",
       "    }\n",
       "\n",
       "    .dataframe thead th {\n",
       "        text-align: right;\n",
       "    }\n",
       "</style>\n",
       "<table border=\"1\" class=\"dataframe\">\n",
       "  <thead>\n",
       "    <tr style=\"text-align: right;\">\n",
       "      <th></th>\n",
       "      <th>count</th>\n",
       "      <th>mean</th>\n",
       "      <th>std</th>\n",
       "      <th>min</th>\n",
       "      <th>25%</th>\n",
       "      <th>50%</th>\n",
       "      <th>75%</th>\n",
       "      <th>max</th>\n",
       "    </tr>\n",
       "  </thead>\n",
       "  <tbody>\n",
       "    <tr>\n",
       "      <th>ha%</th>\n",
       "      <td>1385.0</td>\n",
       "      <td>0.007931</td>\n",
       "      <td>0.002966</td>\n",
       "      <td>0.0001</td>\n",
       "      <td>0.006000</td>\n",
       "      <td>0.00820</td>\n",
       "      <td>0.009900</td>\n",
       "      <td>0.0209</td>\n",
       "    </tr>\n",
       "    <tr>\n",
       "      <th>af%</th>\n",
       "      <td>1436.0</td>\n",
       "      <td>0.047214</td>\n",
       "      <td>0.027135</td>\n",
       "      <td>0.0005</td>\n",
       "      <td>0.022125</td>\n",
       "      <td>0.05060</td>\n",
       "      <td>0.068425</td>\n",
       "      <td>0.1120</td>\n",
       "    </tr>\n",
       "    <tr>\n",
       "      <th>hf%</th>\n",
       "      <td>1446.0</td>\n",
       "      <td>0.133520</td>\n",
       "      <td>0.066907</td>\n",
       "      <td>0.0016</td>\n",
       "      <td>0.079400</td>\n",
       "      <td>0.13100</td>\n",
       "      <td>0.172000</td>\n",
       "      <td>0.3080</td>\n",
       "    </tr>\n",
       "    <tr>\n",
       "      <th>dm%</th>\n",
       "      <td>1456.0</td>\n",
       "      <td>0.229867</td>\n",
       "      <td>0.084025</td>\n",
       "      <td>0.0028</td>\n",
       "      <td>0.167000</td>\n",
       "      <td>0.24000</td>\n",
       "      <td>0.290000</td>\n",
       "      <td>0.4240</td>\n",
       "    </tr>\n",
       "    <tr>\n",
       "      <th>hc%</th>\n",
       "      <td>1444.0</td>\n",
       "      <td>0.269867</td>\n",
       "      <td>0.139578</td>\n",
       "      <td>0.0026</td>\n",
       "      <td>0.153000</td>\n",
       "      <td>0.29350</td>\n",
       "      <td>0.371000</td>\n",
       "      <td>0.6210</td>\n",
       "    </tr>\n",
       "    <tr>\n",
       "      <th>hyp%</th>\n",
       "      <td>1454.0</td>\n",
       "      <td>0.404431</td>\n",
       "      <td>0.169476</td>\n",
       "      <td>0.0008</td>\n",
       "      <td>0.248250</td>\n",
       "      <td>0.44900</td>\n",
       "      <td>0.548000</td>\n",
       "      <td>0.6710</td>\n",
       "    </tr>\n",
       "    <tr>\n",
       "      <th>ihd%</th>\n",
       "      <td>1450.0</td>\n",
       "      <td>0.211881</td>\n",
       "      <td>0.098325</td>\n",
       "      <td>0.0021</td>\n",
       "      <td>0.121000</td>\n",
       "      <td>0.23000</td>\n",
       "      <td>0.285000</td>\n",
       "      <td>0.4290</td>\n",
       "    </tr>\n",
       "    <tr>\n",
       "      <th>strokeorTIA%</th>\n",
       "      <td>1434.0</td>\n",
       "      <td>0.034349</td>\n",
       "      <td>0.018263</td>\n",
       "      <td>0.0030</td>\n",
       "      <td>0.021400</td>\n",
       "      <td>0.03100</td>\n",
       "      <td>0.041275</td>\n",
       "      <td>0.0984</td>\n",
       "    </tr>\n",
       "    <tr>\n",
       "      <th>obesity%</th>\n",
       "      <td>1446.0</td>\n",
       "      <td>0.065914</td>\n",
       "      <td>0.031175</td>\n",
       "      <td>0.0009</td>\n",
       "      <td>0.040325</td>\n",
       "      <td>0.06120</td>\n",
       "      <td>0.087075</td>\n",
       "      <td>0.1800</td>\n",
       "    </tr>\n",
       "    <tr>\n",
       "      <th>pad%</th>\n",
       "      <td>1440.0</td>\n",
       "      <td>0.084013</td>\n",
       "      <td>0.059851</td>\n",
       "      <td>0.0005</td>\n",
       "      <td>0.035700</td>\n",
       "      <td>0.07525</td>\n",
       "      <td>0.111000</td>\n",
       "      <td>0.3130</td>\n",
       "    </tr>\n",
       "  </tbody>\n",
       "</table>\n",
       "</div>"
      ],
      "text/plain": [
       "               count      mean       std     min       25%      50%       75%  \\\n",
       "ha%           1385.0  0.007931  0.002966  0.0001  0.006000  0.00820  0.009900   \n",
       "af%           1436.0  0.047214  0.027135  0.0005  0.022125  0.05060  0.068425   \n",
       "hf%           1446.0  0.133520  0.066907  0.0016  0.079400  0.13100  0.172000   \n",
       "dm%           1456.0  0.229867  0.084025  0.0028  0.167000  0.24000  0.290000   \n",
       "hc%           1444.0  0.269867  0.139578  0.0026  0.153000  0.29350  0.371000   \n",
       "hyp%          1454.0  0.404431  0.169476  0.0008  0.248250  0.44900  0.548000   \n",
       "ihd%          1450.0  0.211881  0.098325  0.0021  0.121000  0.23000  0.285000   \n",
       "strokeorTIA%  1434.0  0.034349  0.018263  0.0030  0.021400  0.03100  0.041275   \n",
       "obesity%      1446.0  0.065914  0.031175  0.0009  0.040325  0.06120  0.087075   \n",
       "pad%          1440.0  0.084013  0.059851  0.0005  0.035700  0.07525  0.111000   \n",
       "\n",
       "                 max  \n",
       "ha%           0.0209  \n",
       "af%           0.1120  \n",
       "hf%           0.3080  \n",
       "dm%           0.4240  \n",
       "hc%           0.6210  \n",
       "hyp%          0.6710  \n",
       "ihd%          0.4290  \n",
       "strokeorTIA%  0.0984  \n",
       "obesity%      0.1800  \n",
       "pad%          0.3130  "
      ]
     },
     "execution_count": 16,
     "metadata": {},
     "output_type": "execute_result"
    }
   ],
   "source": [
    "dfc[['ha%', 'af%', 'hf%', 'dm%', 'hc%', 'hyp%', 'ihd%', 'strokeorTIA%', 'obesity%', 'pad%']].describe().T"
   ]
  },
  {
   "cell_type": "markdown",
   "metadata": {},
   "source": [
    "#### Analysis:\n",
    "- The most amount of data is missing from heart attacks (presumably from passing away) while also occuring in the lowest persent of the population (0.79%).\n",
    "- The most common cardiovascular issue is hypertension at 40.4% of this Medicare/Medicaid population\n",
    "- In one row of data, 42.4% of the population came in with Diabetes Mellitus. That's a huge percent of any population but very insane in this case.\n",
    "- As Peripheral Arterial Disease (PAD) is often a subset of Type 2 Diabetes Mellitus cases, it makes sense that in average cases, that PAD occurs in a lower percent of the population"
   ]
  },
  {
   "cell_type": "markdown",
   "metadata": {},
   "source": [
    "#### Age and Ethnicity Summary"
   ]
  },
  {
   "cell_type": "code",
   "execution_count": 17,
   "metadata": {},
   "outputs": [
    {
     "data": {
      "text/html": [
       "<div>\n",
       "<style scoped>\n",
       "    .dataframe tbody tr th:only-of-type {\n",
       "        vertical-align: middle;\n",
       "    }\n",
       "\n",
       "    .dataframe tbody tr th {\n",
       "        vertical-align: top;\n",
       "    }\n",
       "\n",
       "    .dataframe thead th {\n",
       "        text-align: right;\n",
       "    }\n",
       "</style>\n",
       "<table border=\"1\" class=\"dataframe\">\n",
       "  <thead>\n",
       "    <tr style=\"text-align: right;\">\n",
       "      <th></th>\n",
       "      <th>count</th>\n",
       "      <th>mean</th>\n",
       "      <th>std</th>\n",
       "      <th>min</th>\n",
       "      <th>25%</th>\n",
       "      <th>50%</th>\n",
       "      <th>75%</th>\n",
       "      <th>max</th>\n",
       "    </tr>\n",
       "  </thead>\n",
       "  <tbody>\n",
       "    <tr>\n",
       "      <th>A%_&lt;40</th>\n",
       "      <td>1448.0</td>\n",
       "      <td>0.180732</td>\n",
       "      <td>0.214602</td>\n",
       "      <td>0.0047</td>\n",
       "      <td>0.015000</td>\n",
       "      <td>0.08520</td>\n",
       "      <td>0.31775</td>\n",
       "      <td>0.728</td>\n",
       "    </tr>\n",
       "    <tr>\n",
       "      <th>A%_40-64</th>\n",
       "      <td>1448.0</td>\n",
       "      <td>0.305538</td>\n",
       "      <td>0.141785</td>\n",
       "      <td>0.0305</td>\n",
       "      <td>0.169000</td>\n",
       "      <td>0.33400</td>\n",
       "      <td>0.40825</td>\n",
       "      <td>0.675</td>\n",
       "    </tr>\n",
       "    <tr>\n",
       "      <th>A%_65-84</th>\n",
       "      <td>1092.0</td>\n",
       "      <td>0.564909</td>\n",
       "      <td>0.161310</td>\n",
       "      <td>0.2690</td>\n",
       "      <td>0.429000</td>\n",
       "      <td>0.52100</td>\n",
       "      <td>0.76100</td>\n",
       "      <td>0.833</td>\n",
       "    </tr>\n",
       "    <tr>\n",
       "      <th>A%_85+</th>\n",
       "      <td>1092.0</td>\n",
       "      <td>0.120036</td>\n",
       "      <td>0.043542</td>\n",
       "      <td>0.0359</td>\n",
       "      <td>0.087375</td>\n",
       "      <td>0.12300</td>\n",
       "      <td>0.14800</td>\n",
       "      <td>0.278</td>\n",
       "    </tr>\n",
       "    <tr>\n",
       "      <th>F%</th>\n",
       "      <td>1456.0</td>\n",
       "      <td>0.562986</td>\n",
       "      <td>0.057026</td>\n",
       "      <td>0.4350</td>\n",
       "      <td>0.517000</td>\n",
       "      <td>0.55500</td>\n",
       "      <td>0.61200</td>\n",
       "      <td>0.697</td>\n",
       "    </tr>\n",
       "    <tr>\n",
       "      <th>M%</th>\n",
       "      <td>1456.0</td>\n",
       "      <td>0.437014</td>\n",
       "      <td>0.057026</td>\n",
       "      <td>0.3030</td>\n",
       "      <td>0.388000</td>\n",
       "      <td>0.44500</td>\n",
       "      <td>0.48300</td>\n",
       "      <td>0.565</td>\n",
       "    </tr>\n",
       "    <tr>\n",
       "      <th>White%</th>\n",
       "      <td>1456.0</td>\n",
       "      <td>0.685083</td>\n",
       "      <td>0.222943</td>\n",
       "      <td>0.0069</td>\n",
       "      <td>0.510500</td>\n",
       "      <td>0.74750</td>\n",
       "      <td>0.86500</td>\n",
       "      <td>0.985</td>\n",
       "    </tr>\n",
       "    <tr>\n",
       "      <th>AfrA%</th>\n",
       "      <td>1437.0</td>\n",
       "      <td>0.159678</td>\n",
       "      <td>0.171398</td>\n",
       "      <td>0.0014</td>\n",
       "      <td>0.026200</td>\n",
       "      <td>0.09590</td>\n",
       "      <td>0.22000</td>\n",
       "      <td>0.897</td>\n",
       "    </tr>\n",
       "    <tr>\n",
       "      <th>His%</th>\n",
       "      <td>1381.0</td>\n",
       "      <td>0.030176</td>\n",
       "      <td>0.079633</td>\n",
       "      <td>0.0002</td>\n",
       "      <td>0.005200</td>\n",
       "      <td>0.01070</td>\n",
       "      <td>0.02210</td>\n",
       "      <td>0.609</td>\n",
       "    </tr>\n",
       "    <tr>\n",
       "      <th>Asian%</th>\n",
       "      <td>1403.0</td>\n",
       "      <td>0.063231</td>\n",
       "      <td>0.092205</td>\n",
       "      <td>0.0001</td>\n",
       "      <td>0.009000</td>\n",
       "      <td>0.02310</td>\n",
       "      <td>0.07525</td>\n",
       "      <td>0.521</td>\n",
       "    </tr>\n",
       "    <tr>\n",
       "      <th>Indig%</th>\n",
       "      <td>1375.0</td>\n",
       "      <td>0.022861</td>\n",
       "      <td>0.052325</td>\n",
       "      <td>0.0002</td>\n",
       "      <td>0.001100</td>\n",
       "      <td>0.00300</td>\n",
       "      <td>0.01495</td>\n",
       "      <td>0.336</td>\n",
       "    </tr>\n",
       "    <tr>\n",
       "      <th>Unknown%</th>\n",
       "      <td>1354.0</td>\n",
       "      <td>0.017128</td>\n",
       "      <td>0.036725</td>\n",
       "      <td>0.0001</td>\n",
       "      <td>0.005100</td>\n",
       "      <td>0.00775</td>\n",
       "      <td>0.01290</td>\n",
       "      <td>0.308</td>\n",
       "    </tr>\n",
       "  </tbody>\n",
       "</table>\n",
       "</div>"
      ],
      "text/plain": [
       "           count      mean       std     min       25%      50%      75%  \\\n",
       "A%_<40    1448.0  0.180732  0.214602  0.0047  0.015000  0.08520  0.31775   \n",
       "A%_40-64  1448.0  0.305538  0.141785  0.0305  0.169000  0.33400  0.40825   \n",
       "A%_65-84  1092.0  0.564909  0.161310  0.2690  0.429000  0.52100  0.76100   \n",
       "A%_85+    1092.0  0.120036  0.043542  0.0359  0.087375  0.12300  0.14800   \n",
       "F%        1456.0  0.562986  0.057026  0.4350  0.517000  0.55500  0.61200   \n",
       "M%        1456.0  0.437014  0.057026  0.3030  0.388000  0.44500  0.48300   \n",
       "White%    1456.0  0.685083  0.222943  0.0069  0.510500  0.74750  0.86500   \n",
       "AfrA%     1437.0  0.159678  0.171398  0.0014  0.026200  0.09590  0.22000   \n",
       "His%      1381.0  0.030176  0.079633  0.0002  0.005200  0.01070  0.02210   \n",
       "Asian%    1403.0  0.063231  0.092205  0.0001  0.009000  0.02310  0.07525   \n",
       "Indig%    1375.0  0.022861  0.052325  0.0002  0.001100  0.00300  0.01495   \n",
       "Unknown%  1354.0  0.017128  0.036725  0.0001  0.005100  0.00775  0.01290   \n",
       "\n",
       "            max  \n",
       "A%_<40    0.728  \n",
       "A%_40-64  0.675  \n",
       "A%_65-84  0.833  \n",
       "A%_85+    0.278  \n",
       "F%        0.697  \n",
       "M%        0.565  \n",
       "White%    0.985  \n",
       "AfrA%     0.897  \n",
       "His%      0.609  \n",
       "Asian%    0.521  \n",
       "Indig%    0.336  \n",
       "Unknown%  0.308  "
      ]
     },
     "execution_count": 17,
     "metadata": {},
     "output_type": "execute_result"
    }
   ],
   "source": [
    "dfc[[\"A%_<40\", \"A%_40-64\", \"A%_65-84\", \"A%_85+\", \"F%\", \"M%\", \"White%\", \"AfrA%\",\"His%\",\"Asian%\",\"Indig%\",\"Unknown%\"]].describe().T"
   ]
  },
  {
   "cell_type": "markdown",
   "metadata": {},
   "source": [
    "#### Analysis\n",
    "- For age categories, the mean percentage for age categories is >100% based on missing data from the 65-84 and 85+ groupings. This would most likely arise from Medicare not having this information for the 65+ crowd\n",
    "- Of the data that is present, the majority is still skewed towards 65+ suggesting that there is a greater reliance that falls under Medicare than Medicaid.\n",
    "- Women were more often enrolled (56.3%) presumably because there are a greater number of women alive, life expectancy is longer, and generally incomes are less which might make more women eligble for Medicaid.\n",
    "- Not much can be gleaned from the ethnicity as this is not normalized to ethnicity population size year over year. To be able to get a true estimate, it would involve taking total participants and multiplying by ethnic percentage to get a total number of people enrolled in Medicare/Medicaid then dividing total number of people by the yearly national census numbers when controlling for ethnicity."
   ]
  },
  {
   "cell_type": "markdown",
   "metadata": {},
   "source": [
    "## Exploratory Data Analysis using National Averages and Year Trends"
   ]
  },
  {
   "cell_type": "code",
   "execution_count": 18,
   "metadata": {},
   "outputs": [],
   "source": [
    "sns.set(style='darkgrid')"
   ]
  },
  {
   "cell_type": "code",
   "execution_count": 20,
   "metadata": {},
   "outputs": [
    {
     "data": {
      "image/png": "[encoded data removed]",
      "text/plain": [
       "<Figure size 432x288 with 1 Axes>"
      ]
     },
     "metadata": {},
     "output_type": "display_data"
    }
   ],
   "source": [
    "df_nation = dfc.loc[(dfc['State'] == 'National') & (dfc['Number of People by Medicare-Medicaid Enrollment Type'] == 'Medicare Only')]\n",
    "\n",
    "fig, ax = plt.subplots()\n",
    "sns.barplot(x='Year', y='Number of People', data=df_nation, palette='Greys', linewidth=1, edgecolor=\"k\")\n",
    "ax.set(ylim=(3e7,4.5e7), ylabel=\"Number of People Enrolled in Medicare  (in millions)\")\n",
    "sns.despine(bottom=True)"
   ]
  },
  {
   "cell_type": "markdown",
   "metadata": {},
   "source": [
    "- Usage of Medicare increased by ~600,000 over the course of the 6 year period (rate increase of ~100,000/year)"
   ]
  },
  {
   "cell_type": "code",
   "execution_count": 21,
   "metadata": {},
   "outputs": [
    {
     "data": {
      "image/png": "[encoded data removed]",
      "text/plain": [
       "<Figure size 720x720 with 4 Axes>"
      ]
     },
     "metadata": {},
     "output_type": "display_data"
    }
   ],
   "source": [
    "fig, ax = plt.subplots(2,2, sharex=True, figsize=(10,10))\n",
    "num_males, num_females = df_nation['M%'] * df_nation['Number of People'], df_nation['F%'] * df_nation['Number of People']\n",
    "\n",
    "fig.suptitle('# of People enrolled in Medicare.')\n",
    "\n",
    "#Top Graphs\n",
    "sns.barplot(ax=ax[0,0], x='Year', y=num_males, data=df_nation, palette='Greys', linewidth=1, edgecolor=\"k\")\n",
    "sns.barplot(ax=ax[0,1], x='Year', y=num_females, data=df_nation, palette='Greys', linewidth=1, edgecolor=\"k\")\n",
    "\n",
    "#Bottom Graphs\n",
    "sns.barplot(ax=ax[1,0], x='Year', y='M%', data=df_nation, palette='Greys', linewidth=1, edgecolor=\"k\")\n",
    "sns.barplot(ax=ax[1,1], x='Year', y='F%', data=df_nation, palette='Greys', linewidth=1, edgecolor=\"k\")\n",
    "\n",
    "ax[0,0].set_title('Males')\n",
    "ax[0,1].set_title('Females')\n",
    "ax[0,0].set(ylim=(1e7,2.5e7), ylabel=\"Population (in millions)\")\n",
    "ax[1,0].set(ylim=(0,1), ylabel=\"Population (%)\")\n",
    "\n",
    "top_bounds, bottom_bounds = [1.5e7, 2.5e7], [0.4,0.6]\n",
    "ax[0,0].set_ylim(top_bounds)\n",
    "ax[0,1].set_ylim(top_bounds)\n",
    "ax[1,0].set_ylim(bottom_bounds)\n",
    "ax[1,1].set_ylim(bottom_bounds)\n",
    "\n",
    "ax[0,1].get_yaxis().set_visible(False)\n",
    "ax[1,1].get_yaxis().set_visible(False)\n",
    "\n",
    "sns.despine(bottom=True)\n",
    "\n",
    "plt.savefig('../images/Sex_Trends.png', dpi=300)"
   ]
  },
  {
   "cell_type": "markdown",
   "metadata": {},
   "source": [
    "- While there was an increase in both males and females enrolled in Medicare, the ratio of males to females trended towards converging in the near future.\n",
    "- This data is not particularly useful  as the net change for women and the net change for men is very different as they had similar enrollment increases for both sexes but the percentages differ based on a different starting baseline (1.7m vs 2m in 2006)"
   ]
  },
  {
   "cell_type": "code",
   "execution_count": 23,
   "metadata": {},
   "outputs": [
    {
     "data": {
      "text/html": [
       "<div>\n",
       "<style scoped>\n",
       "    .dataframe tbody tr th:only-of-type {\n",
       "        vertical-align: middle;\n",
       "    }\n",
       "\n",
       "    .dataframe tbody tr th {\n",
       "        vertical-align: top;\n",
       "    }\n",
       "\n",
       "    .dataframe thead th {\n",
       "        text-align: right;\n",
       "    }\n",
       "</style>\n",
       "<table border=\"1\" class=\"dataframe\">\n",
       "  <thead>\n",
       "    <tr style=\"text-align: right;\">\n",
       "      <th></th>\n",
       "      <th>Year</th>\n",
       "      <th>State</th>\n",
       "      <th>Region</th>\n",
       "      <th>Number of People by Medicare-Medicaid Enrollment Type</th>\n",
       "      <th>Number of People</th>\n",
       "      <th>Number of People with FFS</th>\n",
       "      <th>Number of Females with FFS</th>\n",
       "      <th>Number of Males with FFS</th>\n",
       "      <th>A%_&lt;40</th>\n",
       "      <th>A%_40-64</th>\n",
       "      <th>...</th>\n",
       "      <th>Total Medicare Part D prescription drug FFS costs (total RX cost)</th>\n",
       "      <th>Number of FFS people who used Medicaid lab/xray services</th>\n",
       "      <th>Number of FFS people who used Medicaid durable medical equipment services</th>\n",
       "      <th>Number of FFS people who used Medicaid drugs</th>\n",
       "      <th>Number of FFS people who used Medicaid clinic services</th>\n",
       "      <th>Total Medicaid FFS payments</th>\n",
       "      <th>Total Medicaid lab/xray FFS payments</th>\n",
       "      <th>Total Medicaid durable medical equipment FFS payments</th>\n",
       "      <th>Total Medicaid drug FFS payments</th>\n",
       "      <th>Total Medicaid clinic payments</th>\n",
       "    </tr>\n",
       "  </thead>\n",
       "  <tbody>\n",
       "    <tr>\n",
       "      <th>2</th>\n",
       "      <td>2006</td>\n",
       "      <td>National</td>\n",
       "      <td>NaN</td>\n",
       "      <td>Medicare Only</td>\n",
       "      <td>37165285</td>\n",
       "      <td>28517682</td>\n",
       "      <td>15573890</td>\n",
       "      <td>12943789</td>\n",
       "      <td>0.0101</td>\n",
       "      <td>0.102</td>\n",
       "      <td>...</td>\n",
       "      <td>1.406554e+10</td>\n",
       "      <td>NaN</td>\n",
       "      <td>NaN</td>\n",
       "      <td>NaN</td>\n",
       "      <td>NaN</td>\n",
       "      <td>NaN</td>\n",
       "      <td>NaN</td>\n",
       "      <td>NaN</td>\n",
       "      <td>NaN</td>\n",
       "      <td>NaN</td>\n",
       "    </tr>\n",
       "    <tr>\n",
       "      <th>210</th>\n",
       "      <td>2007</td>\n",
       "      <td>National</td>\n",
       "      <td>NaN</td>\n",
       "      <td>Medicare Only</td>\n",
       "      <td>37943550</td>\n",
       "      <td>27683059</td>\n",
       "      <td>15074893</td>\n",
       "      <td>12608164</td>\n",
       "      <td>0.0097</td>\n",
       "      <td>0.102</td>\n",
       "      <td>...</td>\n",
       "      <td>1.827192e+10</td>\n",
       "      <td>NaN</td>\n",
       "      <td>NaN</td>\n",
       "      <td>NaN</td>\n",
       "      <td>NaN</td>\n",
       "      <td>NaN</td>\n",
       "      <td>NaN</td>\n",
       "      <td>NaN</td>\n",
       "      <td>NaN</td>\n",
       "      <td>NaN</td>\n",
       "    </tr>\n",
       "    <tr>\n",
       "      <th>418</th>\n",
       "      <td>2008</td>\n",
       "      <td>National</td>\n",
       "      <td>NaN</td>\n",
       "      <td>Medicare Only</td>\n",
       "      <td>38888919</td>\n",
       "      <td>27307254</td>\n",
       "      <td>14818887</td>\n",
       "      <td>12488365</td>\n",
       "      <td>0.0094</td>\n",
       "      <td>0.102</td>\n",
       "      <td>...</td>\n",
       "      <td>2.019749e+10</td>\n",
       "      <td>NaN</td>\n",
       "      <td>NaN</td>\n",
       "      <td>NaN</td>\n",
       "      <td>NaN</td>\n",
       "      <td>NaN</td>\n",
       "      <td>NaN</td>\n",
       "      <td>NaN</td>\n",
       "      <td>NaN</td>\n",
       "      <td>NaN</td>\n",
       "    </tr>\n",
       "    <tr>\n",
       "      <th>626</th>\n",
       "      <td>2009</td>\n",
       "      <td>National</td>\n",
       "      <td>NaN</td>\n",
       "      <td>Medicare Only</td>\n",
       "      <td>39644709</td>\n",
       "      <td>26992818</td>\n",
       "      <td>14602995</td>\n",
       "      <td>12389819</td>\n",
       "      <td>0.0090</td>\n",
       "      <td>0.101</td>\n",
       "      <td>...</td>\n",
       "      <td>2.168458e+10</td>\n",
       "      <td>NaN</td>\n",
       "      <td>NaN</td>\n",
       "      <td>NaN</td>\n",
       "      <td>NaN</td>\n",
       "      <td>NaN</td>\n",
       "      <td>NaN</td>\n",
       "      <td>NaN</td>\n",
       "      <td>NaN</td>\n",
       "      <td>NaN</td>\n",
       "    </tr>\n",
       "    <tr>\n",
       "      <th>834</th>\n",
       "      <td>2010</td>\n",
       "      <td>National</td>\n",
       "      <td>NaN</td>\n",
       "      <td>Medicare Only</td>\n",
       "      <td>40430007</td>\n",
       "      <td>27186475</td>\n",
       "      <td>14656023</td>\n",
       "      <td>12530442</td>\n",
       "      <td>0.0089</td>\n",
       "      <td>0.102</td>\n",
       "      <td>...</td>\n",
       "      <td>2.296231e+10</td>\n",
       "      <td>NaN</td>\n",
       "      <td>NaN</td>\n",
       "      <td>NaN</td>\n",
       "      <td>NaN</td>\n",
       "      <td>NaN</td>\n",
       "      <td>NaN</td>\n",
       "      <td>NaN</td>\n",
       "      <td>NaN</td>\n",
       "      <td>NaN</td>\n",
       "    </tr>\n",
       "  </tbody>\n",
       "</table>\n",
       "<p>5 rows × 52 columns</p>\n",
       "</div>"
      ],
      "text/plain": [
       "     Year     State Region  \\\n",
       "2    2006  National    NaN   \n",
       "210  2007  National    NaN   \n",
       "418  2008  National    NaN   \n",
       "626  2009  National    NaN   \n",
       "834  2010  National    NaN   \n",
       "\n",
       "    Number of People by Medicare-Medicaid Enrollment Type  Number of People  \\\n",
       "2                                        Medicare Only             37165285   \n",
       "210                                      Medicare Only             37943550   \n",
       "418                                      Medicare Only             38888919   \n",
       "626                                      Medicare Only             39644709   \n",
       "834                                      Medicare Only             40430007   \n",
       "\n",
       "     Number of People with FFS  Number of Females with FFS  \\\n",
       "2                     28517682                    15573890   \n",
       "210                   27683059                    15074893   \n",
       "418                   27307254                    14818887   \n",
       "626                   26992818                    14602995   \n",
       "834                   27186475                    14656023   \n",
       "\n",
       "     Number of Males with FFS  A%_<40  A%_40-64  ...  \\\n",
       "2                    12943789  0.0101     0.102  ...   \n",
       "210                  12608164  0.0097     0.102  ...   \n",
       "418                  12488365  0.0094     0.102  ...   \n",
       "626                  12389819  0.0090     0.101  ...   \n",
       "834                  12530442  0.0089     0.102  ...   \n",
       "\n",
       "     Total Medicare Part D prescription drug FFS costs (total RX cost)  \\\n",
       "2                                         1.406554e+10                   \n",
       "210                                       1.827192e+10                   \n",
       "418                                       2.019749e+10                   \n",
       "626                                       2.168458e+10                   \n",
       "834                                       2.296231e+10                   \n",
       "\n",
       "     Number of FFS people who used Medicaid lab/xray services  \\\n",
       "2                                                  NaN          \n",
       "210                                                NaN          \n",
       "418                                                NaN          \n",
       "626                                                NaN          \n",
       "834                                                NaN          \n",
       "\n",
       "     Number of FFS people who used Medicaid durable medical equipment services  \\\n",
       "2                                                  NaN                           \n",
       "210                                                NaN                           \n",
       "418                                                NaN                           \n",
       "626                                                NaN                           \n",
       "834                                                NaN                           \n",
       "\n",
       "     Number of FFS people who used Medicaid drugs  \\\n",
       "2                                             NaN   \n",
       "210                                           NaN   \n",
       "418                                           NaN   \n",
       "626                                           NaN   \n",
       "834                                           NaN   \n",
       "\n",
       "     Number of FFS people who used Medicaid clinic services  \\\n",
       "2                                                  NaN        \n",
       "210                                                NaN        \n",
       "418                                                NaN        \n",
       "626                                                NaN        \n",
       "834                                                NaN        \n",
       "\n",
       "     Total Medicaid FFS payments  Total Medicaid lab/xray FFS payments  \\\n",
       "2                            NaN                                   NaN   \n",
       "210                          NaN                                   NaN   \n",
       "418                          NaN                                   NaN   \n",
       "626                          NaN                                   NaN   \n",
       "834                          NaN                                   NaN   \n",
       "\n",
       "     Total Medicaid durable medical equipment FFS payments  \\\n",
       "2                                                  NaN       \n",
       "210                                                NaN       \n",
       "418                                                NaN       \n",
       "626                                                NaN       \n",
       "834                                                NaN       \n",
       "\n",
       "     Total Medicaid drug FFS payments  Total Medicaid clinic payments  \n",
       "2                                 NaN                             NaN  \n",
       "210                               NaN                             NaN  \n",
       "418                               NaN                             NaN  \n",
       "626                               NaN                             NaN  \n",
       "834                               NaN                             NaN  \n",
       "\n",
       "[5 rows x 52 columns]"
      ]
     },
     "execution_count": 23,
     "metadata": {},
     "output_type": "execute_result"
    }
   ],
   "source": [
    "df_nation.head()"
   ]
  },
  {
   "cell_type": "markdown",
   "metadata": {},
   "source": [
    "## Cardiovascular variables by Region"
   ]
  },
  {
   "cell_type": "code",
   "execution_count": 24,
   "metadata": {},
   "outputs": [],
   "source": [
    "p1.create_cardio_pop(dfc)"
   ]
  },
  {
   "cell_type": "code",
   "execution_count": 28,
   "metadata": {},
   "outputs": [],
   "source": [
    "dfc = dfc.loc[(dfc['State'] != 'National') & (dfc['Number of People by Medicare-Medicaid Enrollment Type'] == 'Medicare Only')]"
   ]
  },
  {
   "cell_type": "code",
   "execution_count": 30,
   "metadata": {},
   "outputs": [
    {
     "data": {
      "text/html": [
       "<div>\n",
       "<style scoped>\n",
       "    .dataframe tbody tr th:only-of-type {\n",
       "        vertical-align: middle;\n",
       "    }\n",
       "\n",
       "    .dataframe tbody tr th {\n",
       "        vertical-align: top;\n",
       "    }\n",
       "\n",
       "    .dataframe thead th {\n",
       "        text-align: right;\n",
       "    }\n",
       "</style>\n",
       "<table border=\"1\" class=\"dataframe\">\n",
       "  <thead>\n",
       "    <tr style=\"text-align: right;\">\n",
       "      <th></th>\n",
       "      <th>Year</th>\n",
       "      <th>State</th>\n",
       "      <th>Region</th>\n",
       "      <th>Number of People by Medicare-Medicaid Enrollment Type</th>\n",
       "      <th>Number of People</th>\n",
       "      <th>Number of People with FFS</th>\n",
       "      <th>Number of Females with FFS</th>\n",
       "      <th>Number of Males with FFS</th>\n",
       "      <th>A%_&lt;40</th>\n",
       "      <th>A%_40-64</th>\n",
       "      <th>...</th>\n",
       "      <th>NumHA</th>\n",
       "      <th>NumAF</th>\n",
       "      <th>NumHF</th>\n",
       "      <th>NumDM</th>\n",
       "      <th>NumHC</th>\n",
       "      <th>NumHYP</th>\n",
       "      <th>NumIHD</th>\n",
       "      <th>NumOBESITY</th>\n",
       "      <th>NumSTROKE</th>\n",
       "      <th>NumPAD</th>\n",
       "    </tr>\n",
       "  </thead>\n",
       "  <tbody>\n",
       "    <tr>\n",
       "      <th>6</th>\n",
       "      <td>2006</td>\n",
       "      <td>AK</td>\n",
       "      <td>West</td>\n",
       "      <td>Medicare Only</td>\n",
       "      <td>44058</td>\n",
       "      <td>39788</td>\n",
       "      <td>19532</td>\n",
       "      <td>20256</td>\n",
       "      <td>0.0101</td>\n",
       "      <td>0.1010</td>\n",
       "      <td>...</td>\n",
       "      <td>246.7248</td>\n",
       "      <td>2876.9874</td>\n",
       "      <td>4493.916</td>\n",
       "      <td>7489.860</td>\n",
       "      <td>10882.326</td>\n",
       "      <td>16037.112</td>\n",
       "      <td>8547.252</td>\n",
       "      <td>1387.8270</td>\n",
       "      <td>1066.2036</td>\n",
       "      <td>1942.9578</td>\n",
       "    </tr>\n",
       "    <tr>\n",
       "      <th>10</th>\n",
       "      <td>2006</td>\n",
       "      <td>AL</td>\n",
       "      <td>Southeast</td>\n",
       "      <td>Medicare Only</td>\n",
       "      <td>612504</td>\n",
       "      <td>526262</td>\n",
       "      <td>280727</td>\n",
       "      <td>245535</td>\n",
       "      <td>0.0158</td>\n",
       "      <td>0.1640</td>\n",
       "      <td>...</td>\n",
       "      <td>5145.0336</td>\n",
       "      <td>42017.7744</td>\n",
       "      <td>94325.616</td>\n",
       "      <td>147000.960</td>\n",
       "      <td>235201.536</td>\n",
       "      <td>332589.672</td>\n",
       "      <td>180076.176</td>\n",
       "      <td>18558.8712</td>\n",
       "      <td>25847.6688</td>\n",
       "      <td>46672.8048</td>\n",
       "    </tr>\n",
       "    <tr>\n",
       "      <th>14</th>\n",
       "      <td>2006</td>\n",
       "      <td>AR</td>\n",
       "      <td>Southeast</td>\n",
       "      <td>Medicare Only</td>\n",
       "      <td>393612</td>\n",
       "      <td>365351</td>\n",
       "      <td>194054</td>\n",
       "      <td>171297</td>\n",
       "      <td>0.0131</td>\n",
       "      <td>0.1500</td>\n",
       "      <td>...</td>\n",
       "      <td>3385.0632</td>\n",
       "      <td>24718.8336</td>\n",
       "      <td>56286.516</td>\n",
       "      <td>77147.952</td>\n",
       "      <td>122413.332</td>\n",
       "      <td>183029.580</td>\n",
       "      <td>118083.600</td>\n",
       "      <td>9761.5776</td>\n",
       "      <td>14681.7276</td>\n",
       "      <td>26883.6996</td>\n",
       "    </tr>\n",
       "    <tr>\n",
       "      <th>18</th>\n",
       "      <td>2006</td>\n",
       "      <td>AZ</td>\n",
       "      <td>Southwest</td>\n",
       "      <td>Medicare Only</td>\n",
       "      <td>710739</td>\n",
       "      <td>464135</td>\n",
       "      <td>241599</td>\n",
       "      <td>222536</td>\n",
       "      <td>0.0081</td>\n",
       "      <td>0.0972</td>\n",
       "      <td>...</td>\n",
       "      <td>5330.5425</td>\n",
       "      <td>49609.5822</td>\n",
       "      <td>84577.941</td>\n",
       "      <td>127933.020</td>\n",
       "      <td>255155.301</td>\n",
       "      <td>312014.421</td>\n",
       "      <td>189767.313</td>\n",
       "      <td>20042.8398</td>\n",
       "      <td>23880.8304</td>\n",
       "      <td>55082.2725</td>\n",
       "    </tr>\n",
       "    <tr>\n",
       "      <th>22</th>\n",
       "      <td>2006</td>\n",
       "      <td>CA</td>\n",
       "      <td>West</td>\n",
       "      <td>Medicare Only</td>\n",
       "      <td>3355488</td>\n",
       "      <td>1833522</td>\n",
       "      <td>979667</td>\n",
       "      <td>853855</td>\n",
       "      <td>0.0064</td>\n",
       "      <td>0.0826</td>\n",
       "      <td>...</td>\n",
       "      <td>21475.1232</td>\n",
       "      <td>242601.7824</td>\n",
       "      <td>469768.320</td>\n",
       "      <td>627476.256</td>\n",
       "      <td>1218042.144</td>\n",
       "      <td>1493192.160</td>\n",
       "      <td>909337.248</td>\n",
       "      <td>97309.1520</td>\n",
       "      <td>120797.5680</td>\n",
       "      <td>250319.4048</td>\n",
       "    </tr>\n",
       "  </tbody>\n",
       "</table>\n",
       "<p>5 rows × 62 columns</p>\n",
       "</div>"
      ],
      "text/plain": [
       "    Year State     Region  \\\n",
       "6   2006    AK       West   \n",
       "10  2006    AL  Southeast   \n",
       "14  2006    AR  Southeast   \n",
       "18  2006    AZ  Southwest   \n",
       "22  2006    CA       West   \n",
       "\n",
       "   Number of People by Medicare-Medicaid Enrollment Type  Number of People  \\\n",
       "6                                       Medicare Only                44058   \n",
       "10                                      Medicare Only               612504   \n",
       "14                                      Medicare Only               393612   \n",
       "18                                      Medicare Only               710739   \n",
       "22                                      Medicare Only              3355488   \n",
       "\n",
       "    Number of People with FFS  Number of Females with FFS  \\\n",
       "6                       39788                       19532   \n",
       "10                     526262                      280727   \n",
       "14                     365351                      194054   \n",
       "18                     464135                      241599   \n",
       "22                    1833522                      979667   \n",
       "\n",
       "    Number of Males with FFS  A%_<40  A%_40-64  ...       NumHA        NumAF  \\\n",
       "6                      20256  0.0101    0.1010  ...    246.7248    2876.9874   \n",
       "10                    245535  0.0158    0.1640  ...   5145.0336   42017.7744   \n",
       "14                    171297  0.0131    0.1500  ...   3385.0632   24718.8336   \n",
       "18                    222536  0.0081    0.0972  ...   5330.5425   49609.5822   \n",
       "22                    853855  0.0064    0.0826  ...  21475.1232  242601.7824   \n",
       "\n",
       "         NumHF       NumDM        NumHC       NumHYP      NumIHD  NumOBESITY  \\\n",
       "6     4493.916    7489.860    10882.326    16037.112    8547.252   1387.8270   \n",
       "10   94325.616  147000.960   235201.536   332589.672  180076.176  18558.8712   \n",
       "14   56286.516   77147.952   122413.332   183029.580  118083.600   9761.5776   \n",
       "18   84577.941  127933.020   255155.301   312014.421  189767.313  20042.8398   \n",
       "22  469768.320  627476.256  1218042.144  1493192.160  909337.248  97309.1520   \n",
       "\n",
       "      NumSTROKE       NumPAD  \n",
       "6     1066.2036    1942.9578  \n",
       "10   25847.6688   46672.8048  \n",
       "14   14681.7276   26883.6996  \n",
       "18   23880.8304   55082.2725  \n",
       "22  120797.5680  250319.4048  \n",
       "\n",
       "[5 rows x 62 columns]"
      ]
     },
     "execution_count": 30,
     "metadata": {},
     "output_type": "execute_result"
    }
   ],
   "source": [
    "dfc.head()"
   ]
  },
  {
   "cell_type": "markdown",
   "metadata": {},
   "source": [
    "## Taking the current cleaned dataframe with cardiovascular data and creating a .csv file for Milestone 4"
   ]
  },
  {
   "cell_type": "code",
   "execution_count": 31,
   "metadata": {},
   "outputs": [],
   "source": [
    "dfc.to_csv('../data/processed/tableau_data.csv', sep=',', na_rep='', index=False)"
   ]
  },
  {
   "cell_type": "code",
   "execution_count": 33,
   "metadata": {},
   "outputs": [
    {
     "data": {
      "text/html": [
       "<div>\n",
       "<style scoped>\n",
       "    .dataframe tbody tr th:only-of-type {\n",
       "        vertical-align: middle;\n",
       "    }\n",
       "\n",
       "    .dataframe tbody tr th {\n",
       "        vertical-align: top;\n",
       "    }\n",
       "\n",
       "    .dataframe thead th {\n",
       "        text-align: right;\n",
       "    }\n",
       "</style>\n",
       "<table border=\"1\" class=\"dataframe\">\n",
       "  <thead>\n",
       "    <tr style=\"text-align: right;\">\n",
       "      <th></th>\n",
       "      <th>Region</th>\n",
       "      <th>DM#</th>\n",
       "      <th>HA#</th>\n",
       "      <th>AF#</th>\n",
       "      <th>HF#</th>\n",
       "      <th>HC#</th>\n",
       "      <th>HYP#</th>\n",
       "      <th>IHD#</th>\n",
       "      <th>PAD#</th>\n",
       "      <th>OBES#</th>\n",
       "      <th>STROKE#</th>\n",
       "      <th>Year</th>\n",
       "    </tr>\n",
       "  </thead>\n",
       "  <tbody>\n",
       "    <tr>\n",
       "      <th>0</th>\n",
       "      <td>West</td>\n",
       "      <td>1144581.907</td>\n",
       "      <td>40961.3030</td>\n",
       "      <td>434865.6749</td>\n",
       "      <td>818595.015</td>\n",
       "      <td>2086603.239</td>\n",
       "      <td>2630507.634</td>\n",
       "      <td>1536037.329</td>\n",
       "      <td>420421.8816</td>\n",
       "      <td>169213.8730</td>\n",
       "      <td>204133.0918</td>\n",
       "      <td>2006</td>\n",
       "    </tr>\n",
       "    <tr>\n",
       "      <th>1</th>\n",
       "      <td>Southeast</td>\n",
       "      <td>2142856.300</td>\n",
       "      <td>82072.6749</td>\n",
       "      <td>669392.3435</td>\n",
       "      <td>1323295.108</td>\n",
       "      <td>3821479.643</td>\n",
       "      <td>4886927.714</td>\n",
       "      <td>2907341.827</td>\n",
       "      <td>764556.3808</td>\n",
       "      <td>297230.8196</td>\n",
       "      <td>356545.0585</td>\n",
       "      <td>2006</td>\n",
       "    </tr>\n",
       "    <tr>\n",
       "      <th>2</th>\n",
       "      <td>Southwest</td>\n",
       "      <td>751933.305</td>\n",
       "      <td>30050.9406</td>\n",
       "      <td>233778.3655</td>\n",
       "      <td>539750.237</td>\n",
       "      <td>1304654.424</td>\n",
       "      <td>1734143.683</td>\n",
       "      <td>1062505.673</td>\n",
       "      <td>297852.2053</td>\n",
       "      <td>117078.0990</td>\n",
       "      <td>135138.9404</td>\n",
       "      <td>2006</td>\n",
       "    </tr>\n",
       "    <tr>\n",
       "      <th>3</th>\n",
       "      <td>Northeast</td>\n",
       "      <td>1925350.241</td>\n",
       "      <td>76566.9331</td>\n",
       "      <td>713629.6486</td>\n",
       "      <td>1280740.241</td>\n",
       "      <td>3550559.340</td>\n",
       "      <td>4408822.979</td>\n",
       "      <td>2691588.036</td>\n",
       "      <td>994752.2804</td>\n",
       "      <td>265666.2529</td>\n",
       "      <td>322896.0688</td>\n",
       "      <td>2006</td>\n",
       "    </tr>\n",
       "    <tr>\n",
       "      <th>4</th>\n",
       "      <td>Midwest</td>\n",
       "      <td>1938861.271</td>\n",
       "      <td>80674.5432</td>\n",
       "      <td>649864.9247</td>\n",
       "      <td>1312121.912</td>\n",
       "      <td>3241699.616</td>\n",
       "      <td>4370253.201</td>\n",
       "      <td>2614411.206</td>\n",
       "      <td>766427.2167</td>\n",
       "      <td>296092.2194</td>\n",
       "      <td>306586.5972</td>\n",
       "      <td>2006</td>\n",
       "    </tr>\n",
       "  </tbody>\n",
       "</table>\n",
       "</div>"
      ],
      "text/plain": [
       "      Region          DM#         HA#          AF#          HF#          HC#  \\\n",
       "0       West  1144581.907  40961.3030  434865.6749   818595.015  2086603.239   \n",
       "1  Southeast  2142856.300  82072.6749  669392.3435  1323295.108  3821479.643   \n",
       "2  Southwest   751933.305  30050.9406  233778.3655   539750.237  1304654.424   \n",
       "3  Northeast  1925350.241  76566.9331  713629.6486  1280740.241  3550559.340   \n",
       "4    Midwest  1938861.271  80674.5432  649864.9247  1312121.912  3241699.616   \n",
       "\n",
       "          HYP#         IHD#         PAD#        OBES#      STROKE#  Year  \n",
       "0  2630507.634  1536037.329  420421.8816  169213.8730  204133.0918  2006  \n",
       "1  4886927.714  2907341.827  764556.3808  297230.8196  356545.0585  2006  \n",
       "2  1734143.683  1062505.673  297852.2053  117078.0990  135138.9404  2006  \n",
       "3  4408822.979  2691588.036  994752.2804  265666.2529  322896.0688  2006  \n",
       "4  4370253.201  2614411.206  766427.2167  296092.2194  306586.5972  2006  "
      ]
     },
     "execution_count": 33,
     "metadata": {},
     "output_type": "execute_result"
    }
   ],
   "source": [
    "cardio2006, cardio2007, cardio2008, cardio2009, cardio2010, cardio2011, cardio2012 = p1.cardio_pop_sum(dfc, 2006), p1.cardio_pop_sum(dfc, 2007), p1.cardio_pop_sum(dfc, 2008), p1.cardio_pop_sum(dfc, 2009), p1.cardio_pop_sum(dfc, 2010), p1.cardio_pop_sum(dfc, 2011), p1.cardio_pop_sum(dfc, 2012)\n",
    "cardio_frames = [cardio2006, cardio2007, cardio2008, cardio2009, cardio2010, cardio2011, cardio2012]\n",
    "cardio_data = pd.concat(cardio_frames, ignore_index=True)\n",
    "cardio_data.head()\n"
   ]
  },
  {
   "cell_type": "code",
   "execution_count": 34,
   "metadata": {},
   "outputs": [],
   "source": [
    "cardio_data.to_csv('../data/processed/tableau_data_regionavg.csv', sep=',', na_rep='', index=False)"
   ]
  },
  {
   "cell_type": "markdown",
   "metadata": {},
   "source": [
    "## Graphing of data to answer Project questions"
   ]
  },
  {
   "cell_type": "code",
   "execution_count": 63,
   "metadata": {},
   "outputs": [
    {
     "data": {
      "image/png": "[encoded data removed]",
      "text/plain": [
       "<Figure size 432x432 with 3 Axes>"
      ]
     },
     "metadata": {},
     "output_type": "display_data"
    }
   ],
   "source": [
    "#fig, ax = plt.subplots()\n",
    "sns.set_context('paper', font_scale=1.2)\n",
    "sns.jointplot(x='Year', y='DM#', data=cardio_data, hue='Region', kind='scatter', palette='Set1')\n",
    "sns.despine(left=False)\n",
    "\n",
    "plt.savefig('../images/DM_Trends.png', dpi=300)\n",
    "#ax.set_title('# of Individuals with Diabetes Mellitus.')"
   ]
  },
  {
   "cell_type": "markdown",
   "metadata": {},
   "source": [
    "- Trends in each region of the US for number of Diabetics in Medicare each year from 2006-2012.\n",
    "- Note that there is an upward trend for all regions"
   ]
  },
  {
   "cell_type": "code",
   "execution_count": 56,
   "metadata": {},
   "outputs": [
    {
     "data": {
      "text/plain": [
       "<AxesSubplot:xlabel='Region', ylabel='DM#'>"
      ]
     },
     "execution_count": 56,
     "metadata": {},
     "output_type": "execute_result"
    },
    {
     "data": {
      "image/png": "[encoded data removed]",
      "text/plain": [
       "<Figure size 432x288 with 1 Axes>"
      ]
     },
     "metadata": {},
     "output_type": "display_data"
    }
   ],
   "source": [
    "sns.stripplot(x='Region', y='DM#', data=cardio_data, hue='Year', palette='winter')"
   ]
  },
  {
   "cell_type": "markdown",
   "metadata": {},
   "source": [
    "- Strip plot showing the progressive increase in the number of diabetics over the course of 2006-2012. This is just another visual that can be compared to the each region.\n",
    "- Note that the Southeast has 3x the number of diabetics compared to the Southwest region.  This data would be more useful if it is normalized to the population density in each US region."
   ]
  },
  {
   "cell_type": "code",
   "execution_count": 57,
   "metadata": {},
   "outputs": [
    {
     "data": {
      "text/plain": [
       "<AxesSubplot:xlabel='Region', ylabel='HA#'>"
      ]
     },
     "execution_count": 57,
     "metadata": {},
     "output_type": "execute_result"
    },
    {
     "data": {
      "image/png": "[encoded data removed]",
      "text/plain": [
       "<Figure size 432x288 with 1 Axes>"
      ]
     },
     "metadata": {},
     "output_type": "display_data"
    }
   ],
   "source": [
    "sns.stripplot(x='Region', y='HA#', data=cardio_data, hue='Year', palette='winter')"
   ]
  },
  {
   "cell_type": "markdown",
   "metadata": {},
   "source": [
    "Heart attack data for each of the regions. Again these show an increasing trend over time year over year."
   ]
  },
  {
   "cell_type": "code",
   "execution_count": 58,
   "metadata": {},
   "outputs": [
    {
     "data": {
      "text/plain": [
       "<AxesSubplot:xlabel='Region', ylabel='AF#'>"
      ]
     },
     "execution_count": 58,
     "metadata": {},
     "output_type": "execute_result"
    },
    {
     "data": {
      "image/png": "[encoded data removed]",
      "text/plain": [
       "<Figure size 432x288 with 1 Axes>"
      ]
     },
     "metadata": {},
     "output_type": "display_data"
    }
   ],
   "source": [
    "sns.stripplot(x='Region', y='AF#', data=cardio_data, hue='Year', palette='winter')"
   ]
  },
  {
   "cell_type": "markdown",
   "metadata": {},
   "source": [
    "Atrial Fibrillation data for each of the US regions. The trends hold for each of the regions."
   ]
  },
  {
   "cell_type": "code",
   "execution_count": 59,
   "metadata": {},
   "outputs": [
    {
     "data": {
      "text/plain": [
       "<AxesSubplot:xlabel='Region', ylabel='HF#'>"
      ]
     },
     "execution_count": 59,
     "metadata": {},
     "output_type": "execute_result"
    },
    {
     "data": {
      "image/png": "[encoded data removed]",
      "text/plain": [
       "<Figure size 432x288 with 1 Axes>"
      ]
     },
     "metadata": {},
     "output_type": "display_data"
    }
   ],
   "source": [
    "sns.stripplot(x='Region', y='HF#', data=cardio_data, hue='Year', palette='winter')"
   ]
  },
  {
   "cell_type": "markdown",
   "metadata": {},
   "source": [
    "Heart failure data for each of the US regions. The trends are really hard to find anything notable in this data."
   ]
  },
  {
   "cell_type": "code",
   "execution_count": 60,
   "metadata": {},
   "outputs": [
    {
     "data": {
      "text/plain": [
       "<AxesSubplot:xlabel='Region', ylabel='IHD#'>"
      ]
     },
     "execution_count": 60,
     "metadata": {},
     "output_type": "execute_result"
    },
    {
     "data": {
      "image/png": "[encoded data removed]",
      "text/plain": [
       "<Figure size 432x288 with 1 Axes>"
      ]
     },
     "metadata": {},
     "output_type": "display_data"
    }
   ],
   "source": [
    "sns.stripplot(x='Region', y='IHD#', data=cardio_data, hue='Year', palette='winter')"
   ]
  },
  {
   "cell_type": "markdown",
   "metadata": {},
   "source": [
    "Ischemic heart disease follows the same trends..."
   ]
  },
  {
   "cell_type": "code",
   "execution_count": 61,
   "metadata": {},
   "outputs": [
    {
     "data": {
      "text/plain": [
       "<AxesSubplot:xlabel='Region', ylabel='STROKE#'>"
      ]
     },
     "execution_count": 61,
     "metadata": {},
     "output_type": "execute_result"
    },
    {
     "data": {
      "image/png": "[encoded data removed]",
      "text/plain": [
       "<Figure size 432x288 with 1 Axes>"
      ]
     },
     "metadata": {},
     "output_type": "display_data"
    }
   ],
   "source": [
    "sns.stripplot(x='Region', y='STROKE#', data=cardio_data, hue='Year', palette='winter')"
   ]
  },
  {
   "cell_type": "markdown",
   "metadata": {},
   "source": [
    "Stroke or Transient Ischemic Attack follow the same trends"
   ]
  },
  {
   "cell_type": "code",
   "execution_count": 62,
   "metadata": {},
   "outputs": [
    {
     "data": {
      "text/plain": [
       "<AxesSubplot:xlabel='Region', ylabel='OBES#'>"
      ]
     },
     "execution_count": 62,
     "metadata": {},
     "output_type": "execute_result"
    },
    {
     "data": {
      "image/png": "[encoded data removed]",
      "text/plain": [
       "<Figure size 432x288 with 1 Axes>"
      ]
     },
     "metadata": {},
     "output_type": "display_data"
    }
   ],
   "source": [
    "sns.stripplot(x='Region', y='OBES#', data=cardio_data, hue='Year', palette='winter')"
   ]
  },
  {
   "cell_type": "markdown",
   "metadata": {},
   "source": [
    "Obesity in the difference US regions. Interestingly we do get a larger spread year over year compared to other metrics. Might be worth looking at why the spread is so much bigger."
   ]
  },
  {
   "cell_type": "code",
   "execution_count": null,
   "metadata": {},
   "outputs": [],
   "source": []
  }
 ],
 "metadata": {
  "kernelspec": {
   "display_name": "Python 3 (ipykernel)",
   "language": "python",
   "name": "python3"
  },
  "language_info": {
   "codemirror_mode": {
    "name": "ipython",
    "version": 3
   },
   "file_extension": ".py",
   "mimetype": "text/x-python",
   "name": "python",
   "nbconvert_exporter": "python",
   "pygments_lexer": "ipython3",
   "version": "3.9.5"
  }
 },
 "nbformat": 4,
 "nbformat_minor": 4
}
