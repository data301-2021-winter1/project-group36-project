{
 "cells": [
  {
   "cell_type": "markdown",
   "metadata": {},
   "source": [
    "# Jordan Bird"
   ]
  },
  {
   "cell_type": "markdown",
   "metadata": {
    "tags": []
   },
   "source": [
    "## Research question/interests\n",
    "\n",
    "Coming from a health sciences background, I’m interested in looking at a couple of different angles of this dataset:\n",
    "\n",
    "I am interested in looking at the trends of cardiovascular disease (i.e., atrial fibrillation, heart failure, hypertension, ischemia heart disease, stroke or TIA) in the five US regions (i.e., West, Midwest, Southwest, Southeast, Northeast) and how it has changed over the 6 years of 2006-2012. This is the first step before correlating it to utilization of Medicare and Medicaid services to determine what percentage of the overall healthcare system is from cardiovascular disease. Hopefully we will be able to pinpoint areas of higher cardiovascular risk and tie it into historical census data for why higher cardiovascular disease rates may be higher in some areas of the country."
   ]
  },
  {
   "cell_type": "code",
   "execution_count": 2,
   "metadata": {},
   "outputs": [],
   "source": [
    "import pandas as pd\n",
    "import numpy as np\n",
    "import seaborn as sns\n",
    "import project_functions1 as p1"
   ]
  },
  {
   "cell_type": "markdown",
   "metadata": {},
   "source": [
    "## Data Cleaning"
   ]
  },
  {
   "cell_type": "code",
   "execution_count": 2,
   "metadata": {},
   "outputs": [],
   "source": [
    "#p1.connecting_unprocessed('../data/raw/group36_MedicareData.xlsx')\n",
    "dfu = p1.unprocessed('../data/raw/data.csv')"
   ]
  },
  {
   "cell_type": "markdown",
   "metadata": {},
   "source": [
    "#### Data Cleaning - Adding State Region column"
   ]
  },
  {
   "cell_type": "code",
   "execution_count": 3,
   "metadata": {},
   "outputs": [],
   "source": [
    "dfu = p1.add_region_column(dfu)"
   ]
  },
  {
   "cell_type": "markdown",
   "metadata": {},
   "source": [
    "#### Data Cleaning - Renaming columns"
   ]
  },
  {
   "cell_type": "code",
   "execution_count": 4,
   "metadata": {},
   "outputs": [],
   "source": [
    "dfu = p1.rename_data(dfu)"
   ]
  },
  {
   "cell_type": "markdown",
   "metadata": {},
   "source": [
    "#### Data Cleaning - Remove columns"
   ]
  },
  {
   "cell_type": "code",
   "execution_count": 5,
   "metadata": {},
   "outputs": [],
   "source": [
    "dfu = p1.remove_columns(dfu)"
   ]
  },
  {
   "cell_type": "markdown",
   "metadata": {},
   "source": [
    "#### Data Cleaning - Replace missing values with NaN"
   ]
  },
  {
   "cell_type": "code",
   "execution_count": 6,
   "metadata": {},
   "outputs": [],
   "source": [
    "dfu = p1.missing_values(dfu)"
   ]
  },
  {
   "cell_type": "markdown",
   "metadata": {},
   "source": [
    "#### Data Cleaning - Write .csv file to processed data folder"
   ]
  },
  {
   "cell_type": "code",
   "execution_count": 7,
   "metadata": {},
   "outputs": [],
   "source": [
    "dfu.to_csv('../data/processed/c_data.csv', sep=',', na_rep='', index=False)"
   ]
  },
  {
   "cell_type": "markdown",
   "metadata": {},
   "source": [
    "## Process Data"
   ]
  },
  {
   "cell_type": "code",
   "execution_count": 3,
   "metadata": {},
   "outputs": [],
   "source": [
    "dfc = p1.cleaned_data('../data/processed/c_data.csv')"
   ]
  },
  {
   "cell_type": "markdown",
   "metadata": {},
   "source": []
  },
  {
   "cell_type": "code",
   "execution_count": null,
   "metadata": {},
   "outputs": [],
   "source": []
  },
  {
   "cell_type": "code",
   "execution_count": null,
   "metadata": {},
   "outputs": [],
   "source": []
  },
  {
   "cell_type": "markdown",
   "metadata": {},
   "source": [
    "## Exploratory Data Analysis"
   ]
  },
  {
   "cell_type": "code",
   "execution_count": 8,
   "metadata": {},
   "outputs": [
    {
     "name": "stdout",
     "output_type": "stream",
     "text": [
      "Number of rows and columns respectively: (1456, 52)\n",
      "Columns in the dataset: Index(['Year', 'State', 'Region',\n",
      "       'Number of People by Medicare-Medicaid Enrollment Type',\n",
      "       'Number of People', 'Number of People with FFS',\n",
      "       'Number of Females with FFS', 'Number of Males with FFS', 'A%_<40',\n",
      "       'A%_40-64', 'A%_65-84', 'A%_85+', 'F%', 'M%', 'White%', 'AfrA%', 'His%',\n",
      "       'Asian%', 'Indig%', 'Unknown%', 'ha%', 'af%', 'hf%', 'dm%', 'hc%',\n",
      "       'hyp%', 'ihd%', 'strokeorTIA%', 'obesity%', 'pad%',\n",
      "       'Number of FFS people who used Medicare procedures',\n",
      "       'Number of FFS people who used Medicare imaging services',\n",
      "       'Number of FFS people who used Medicare laboratory/testing services',\n",
      "       'Number of FFS people who used Medicare durable medical equipment',\n",
      "       'Number of people who used Medicare Part D prescription drugs',\n",
      "       'Total Medicare payments', 'Total Medicare IP Hospital FFS payments',\n",
      "       'Total Medicare Other IP Hospital FFS payments',\n",
      "       'Total Medicare Part B drug FFS payments',\n",
      "       'Total Medicare procedure FFS payments',\n",
      "       'Total Medicare imaging FFS payments',\n",
      "       'Total Medicare durable medical equipment FFS payments',\n",
      "       'Total Medicare Part D prescription drug FFS costs (total RX cost)',\n",
      "       'Number of FFS people who used Medicaid lab/xray services',\n",
      "       'Number of FFS people who used Medicaid durable medical equipment services',\n",
      "       'Number of FFS people who used Medicaid drugs',\n",
      "       'Number of FFS people who used Medicaid clinic services',\n",
      "       'Total Medicaid FFS payments', 'Total Medicaid lab/xray FFS payments',\n",
      "       'Total Medicaid durable medical equipment FFS payments',\n",
      "       'Total Medicaid drug FFS payments', 'Total Medicaid clinic payments'],\n",
      "      dtype='object')\n"
     ]
    }
   ],
   "source": [
    "print(\"Number of rows and columns respectively:\", dfc.shape)\n",
    "print(\"Columns in the dataset:\", dfc.columns)"
   ]
  },
  {
   "cell_type": "markdown",
   "metadata": {},
   "source": [
    "#### Cardiovascular Variable Summary"
   ]
  },
  {
   "cell_type": "code",
   "execution_count": 9,
   "metadata": {},
   "outputs": [
    {
     "data": {
      "text/html": [
       "<div>\n",
       "<style scoped>\n",
       "    .dataframe tbody tr th:only-of-type {\n",
       "        vertical-align: middle;\n",
       "    }\n",
       "\n",
       "    .dataframe tbody tr th {\n",
       "        vertical-align: top;\n",
       "    }\n",
       "\n",
       "    .dataframe thead th {\n",
       "        text-align: right;\n",
       "    }\n",
       "</style>\n",
       "<table border=\"1\" class=\"dataframe\">\n",
       "  <thead>\n",
       "    <tr style=\"text-align: right;\">\n",
       "      <th></th>\n",
       "      <th>count</th>\n",
       "      <th>mean</th>\n",
       "      <th>std</th>\n",
       "      <th>min</th>\n",
       "      <th>25%</th>\n",
       "      <th>50%</th>\n",
       "      <th>75%</th>\n",
       "      <th>max</th>\n",
       "    </tr>\n",
       "  </thead>\n",
       "  <tbody>\n",
       "    <tr>\n",
       "      <th>ha%</th>\n",
       "      <td>1385.0</td>\n",
       "      <td>0.007931</td>\n",
       "      <td>0.002966</td>\n",
       "      <td>0.0001</td>\n",
       "      <td>0.006000</td>\n",
       "      <td>0.00820</td>\n",
       "      <td>0.009900</td>\n",
       "      <td>0.0209</td>\n",
       "    </tr>\n",
       "    <tr>\n",
       "      <th>af%</th>\n",
       "      <td>1436.0</td>\n",
       "      <td>0.047214</td>\n",
       "      <td>0.027135</td>\n",
       "      <td>0.0005</td>\n",
       "      <td>0.022125</td>\n",
       "      <td>0.05060</td>\n",
       "      <td>0.068425</td>\n",
       "      <td>0.1120</td>\n",
       "    </tr>\n",
       "    <tr>\n",
       "      <th>hf%</th>\n",
       "      <td>1446.0</td>\n",
       "      <td>0.133520</td>\n",
       "      <td>0.066907</td>\n",
       "      <td>0.0016</td>\n",
       "      <td>0.079400</td>\n",
       "      <td>0.13100</td>\n",
       "      <td>0.172000</td>\n",
       "      <td>0.3080</td>\n",
       "    </tr>\n",
       "    <tr>\n",
       "      <th>dm%</th>\n",
       "      <td>1456.0</td>\n",
       "      <td>0.229867</td>\n",
       "      <td>0.084025</td>\n",
       "      <td>0.0028</td>\n",
       "      <td>0.167000</td>\n",
       "      <td>0.24000</td>\n",
       "      <td>0.290000</td>\n",
       "      <td>0.4240</td>\n",
       "    </tr>\n",
       "    <tr>\n",
       "      <th>hc%</th>\n",
       "      <td>1444.0</td>\n",
       "      <td>0.269867</td>\n",
       "      <td>0.139578</td>\n",
       "      <td>0.0026</td>\n",
       "      <td>0.153000</td>\n",
       "      <td>0.29350</td>\n",
       "      <td>0.371000</td>\n",
       "      <td>0.6210</td>\n",
       "    </tr>\n",
       "    <tr>\n",
       "      <th>hyp%</th>\n",
       "      <td>1454.0</td>\n",
       "      <td>0.404431</td>\n",
       "      <td>0.169476</td>\n",
       "      <td>0.0008</td>\n",
       "      <td>0.248250</td>\n",
       "      <td>0.44900</td>\n",
       "      <td>0.548000</td>\n",
       "      <td>0.6710</td>\n",
       "    </tr>\n",
       "    <tr>\n",
       "      <th>ihd%</th>\n",
       "      <td>1450.0</td>\n",
       "      <td>0.211881</td>\n",
       "      <td>0.098325</td>\n",
       "      <td>0.0021</td>\n",
       "      <td>0.121000</td>\n",
       "      <td>0.23000</td>\n",
       "      <td>0.285000</td>\n",
       "      <td>0.4290</td>\n",
       "    </tr>\n",
       "    <tr>\n",
       "      <th>strokeorTIA%</th>\n",
       "      <td>1434.0</td>\n",
       "      <td>0.034349</td>\n",
       "      <td>0.018263</td>\n",
       "      <td>0.0030</td>\n",
       "      <td>0.021400</td>\n",
       "      <td>0.03100</td>\n",
       "      <td>0.041275</td>\n",
       "      <td>0.0984</td>\n",
       "    </tr>\n",
       "    <tr>\n",
       "      <th>obesity%</th>\n",
       "      <td>1446.0</td>\n",
       "      <td>0.065914</td>\n",
       "      <td>0.031175</td>\n",
       "      <td>0.0009</td>\n",
       "      <td>0.040325</td>\n",
       "      <td>0.06120</td>\n",
       "      <td>0.087075</td>\n",
       "      <td>0.1800</td>\n",
       "    </tr>\n",
       "    <tr>\n",
       "      <th>pad%</th>\n",
       "      <td>1440.0</td>\n",
       "      <td>0.084013</td>\n",
       "      <td>0.059851</td>\n",
       "      <td>0.0005</td>\n",
       "      <td>0.035700</td>\n",
       "      <td>0.07525</td>\n",
       "      <td>0.111000</td>\n",
       "      <td>0.3130</td>\n",
       "    </tr>\n",
       "  </tbody>\n",
       "</table>\n",
       "</div>"
      ],
      "text/plain": [
       "               count      mean       std     min       25%      50%       75%  \\\n",
       "ha%           1385.0  0.007931  0.002966  0.0001  0.006000  0.00820  0.009900   \n",
       "af%           1436.0  0.047214  0.027135  0.0005  0.022125  0.05060  0.068425   \n",
       "hf%           1446.0  0.133520  0.066907  0.0016  0.079400  0.13100  0.172000   \n",
       "dm%           1456.0  0.229867  0.084025  0.0028  0.167000  0.24000  0.290000   \n",
       "hc%           1444.0  0.269867  0.139578  0.0026  0.153000  0.29350  0.371000   \n",
       "hyp%          1454.0  0.404431  0.169476  0.0008  0.248250  0.44900  0.548000   \n",
       "ihd%          1450.0  0.211881  0.098325  0.0021  0.121000  0.23000  0.285000   \n",
       "strokeorTIA%  1434.0  0.034349  0.018263  0.0030  0.021400  0.03100  0.041275   \n",
       "obesity%      1446.0  0.065914  0.031175  0.0009  0.040325  0.06120  0.087075   \n",
       "pad%          1440.0  0.084013  0.059851  0.0005  0.035700  0.07525  0.111000   \n",
       "\n",
       "                 max  \n",
       "ha%           0.0209  \n",
       "af%           0.1120  \n",
       "hf%           0.3080  \n",
       "dm%           0.4240  \n",
       "hc%           0.6210  \n",
       "hyp%          0.6710  \n",
       "ihd%          0.4290  \n",
       "strokeorTIA%  0.0984  \n",
       "obesity%      0.1800  \n",
       "pad%          0.3130  "
      ]
     },
     "execution_count": 9,
     "metadata": {},
     "output_type": "execute_result"
    }
   ],
   "source": [
    "dfc[['ha%', 'af%', 'hf%', 'dm%', 'hc%', 'hyp%', 'ihd%', 'strokeorTIA%', 'obesity%', 'pad%']].describe().T"
   ]
  },
  {
   "cell_type": "markdown",
   "metadata": {},
   "source": [
    "#### Analysis:\n",
    "- The most amount of data is missing from heart attacks (presumably from passing away) while also occuring in the lowest persent of the population (0.79%).\n",
    "- The most common cardiovascular issue is hypertension at 40.4% of this Medicare/Medicaid population\n",
    "- In one row of data, 42.4% of the population came in with Diabetes Mellitus. That's a huge percent of any population but very insane in this case.\n",
    "- As Peripheral Arterial Disease (PAD) is often a subset of Type 2 Diabetes Mellitus cases, it makes sense that in average cases, that PAD occurs in a lower percent of the population"
   ]
  },
  {
   "cell_type": "markdown",
   "metadata": {},
   "source": [
    "#### Age and Ethnicity Summary"
   ]
  },
  {
   "cell_type": "code",
   "execution_count": 10,
   "metadata": {},
   "outputs": [
    {
     "data": {
      "text/html": [
       "<div>\n",
       "<style scoped>\n",
       "    .dataframe tbody tr th:only-of-type {\n",
       "        vertical-align: middle;\n",
       "    }\n",
       "\n",
       "    .dataframe tbody tr th {\n",
       "        vertical-align: top;\n",
       "    }\n",
       "\n",
       "    .dataframe thead th {\n",
       "        text-align: right;\n",
       "    }\n",
       "</style>\n",
       "<table border=\"1\" class=\"dataframe\">\n",
       "  <thead>\n",
       "    <tr style=\"text-align: right;\">\n",
       "      <th></th>\n",
       "      <th>count</th>\n",
       "      <th>mean</th>\n",
       "      <th>std</th>\n",
       "      <th>min</th>\n",
       "      <th>25%</th>\n",
       "      <th>50%</th>\n",
       "      <th>75%</th>\n",
       "      <th>max</th>\n",
       "    </tr>\n",
       "  </thead>\n",
       "  <tbody>\n",
       "    <tr>\n",
       "      <th>A%_&lt;40</th>\n",
       "      <td>1448.0</td>\n",
       "      <td>0.180732</td>\n",
       "      <td>0.214602</td>\n",
       "      <td>0.0047</td>\n",
       "      <td>0.015000</td>\n",
       "      <td>0.08520</td>\n",
       "      <td>0.31775</td>\n",
       "      <td>0.728</td>\n",
       "    </tr>\n",
       "    <tr>\n",
       "      <th>A%_40-64</th>\n",
       "      <td>1448.0</td>\n",
       "      <td>0.305538</td>\n",
       "      <td>0.141785</td>\n",
       "      <td>0.0305</td>\n",
       "      <td>0.169000</td>\n",
       "      <td>0.33400</td>\n",
       "      <td>0.40825</td>\n",
       "      <td>0.675</td>\n",
       "    </tr>\n",
       "    <tr>\n",
       "      <th>A%_65-84</th>\n",
       "      <td>1092.0</td>\n",
       "      <td>0.564909</td>\n",
       "      <td>0.161310</td>\n",
       "      <td>0.2690</td>\n",
       "      <td>0.429000</td>\n",
       "      <td>0.52100</td>\n",
       "      <td>0.76100</td>\n",
       "      <td>0.833</td>\n",
       "    </tr>\n",
       "    <tr>\n",
       "      <th>A%_85+</th>\n",
       "      <td>1092.0</td>\n",
       "      <td>0.120036</td>\n",
       "      <td>0.043542</td>\n",
       "      <td>0.0359</td>\n",
       "      <td>0.087375</td>\n",
       "      <td>0.12300</td>\n",
       "      <td>0.14800</td>\n",
       "      <td>0.278</td>\n",
       "    </tr>\n",
       "    <tr>\n",
       "      <th>F%</th>\n",
       "      <td>1456.0</td>\n",
       "      <td>0.562986</td>\n",
       "      <td>0.057026</td>\n",
       "      <td>0.4350</td>\n",
       "      <td>0.517000</td>\n",
       "      <td>0.55500</td>\n",
       "      <td>0.61200</td>\n",
       "      <td>0.697</td>\n",
       "    </tr>\n",
       "    <tr>\n",
       "      <th>M%</th>\n",
       "      <td>1456.0</td>\n",
       "      <td>0.437014</td>\n",
       "      <td>0.057026</td>\n",
       "      <td>0.3030</td>\n",
       "      <td>0.388000</td>\n",
       "      <td>0.44500</td>\n",
       "      <td>0.48300</td>\n",
       "      <td>0.565</td>\n",
       "    </tr>\n",
       "    <tr>\n",
       "      <th>White%</th>\n",
       "      <td>1456.0</td>\n",
       "      <td>0.685083</td>\n",
       "      <td>0.222943</td>\n",
       "      <td>0.0069</td>\n",
       "      <td>0.510500</td>\n",
       "      <td>0.74750</td>\n",
       "      <td>0.86500</td>\n",
       "      <td>0.985</td>\n",
       "    </tr>\n",
       "    <tr>\n",
       "      <th>AfrA%</th>\n",
       "      <td>1437.0</td>\n",
       "      <td>0.159678</td>\n",
       "      <td>0.171398</td>\n",
       "      <td>0.0014</td>\n",
       "      <td>0.026200</td>\n",
       "      <td>0.09590</td>\n",
       "      <td>0.22000</td>\n",
       "      <td>0.897</td>\n",
       "    </tr>\n",
       "    <tr>\n",
       "      <th>His%</th>\n",
       "      <td>1381.0</td>\n",
       "      <td>0.030176</td>\n",
       "      <td>0.079633</td>\n",
       "      <td>0.0002</td>\n",
       "      <td>0.005200</td>\n",
       "      <td>0.01070</td>\n",
       "      <td>0.02210</td>\n",
       "      <td>0.609</td>\n",
       "    </tr>\n",
       "    <tr>\n",
       "      <th>Asian%</th>\n",
       "      <td>1403.0</td>\n",
       "      <td>0.063231</td>\n",
       "      <td>0.092205</td>\n",
       "      <td>0.0001</td>\n",
       "      <td>0.009000</td>\n",
       "      <td>0.02310</td>\n",
       "      <td>0.07525</td>\n",
       "      <td>0.521</td>\n",
       "    </tr>\n",
       "    <tr>\n",
       "      <th>Indig%</th>\n",
       "      <td>1375.0</td>\n",
       "      <td>0.022861</td>\n",
       "      <td>0.052325</td>\n",
       "      <td>0.0002</td>\n",
       "      <td>0.001100</td>\n",
       "      <td>0.00300</td>\n",
       "      <td>0.01495</td>\n",
       "      <td>0.336</td>\n",
       "    </tr>\n",
       "    <tr>\n",
       "      <th>Unknown%</th>\n",
       "      <td>1354.0</td>\n",
       "      <td>0.017128</td>\n",
       "      <td>0.036725</td>\n",
       "      <td>0.0001</td>\n",
       "      <td>0.005100</td>\n",
       "      <td>0.00775</td>\n",
       "      <td>0.01290</td>\n",
       "      <td>0.308</td>\n",
       "    </tr>\n",
       "  </tbody>\n",
       "</table>\n",
       "</div>"
      ],
      "text/plain": [
       "           count      mean       std     min       25%      50%      75%  \\\n",
       "A%_<40    1448.0  0.180732  0.214602  0.0047  0.015000  0.08520  0.31775   \n",
       "A%_40-64  1448.0  0.305538  0.141785  0.0305  0.169000  0.33400  0.40825   \n",
       "A%_65-84  1092.0  0.564909  0.161310  0.2690  0.429000  0.52100  0.76100   \n",
       "A%_85+    1092.0  0.120036  0.043542  0.0359  0.087375  0.12300  0.14800   \n",
       "F%        1456.0  0.562986  0.057026  0.4350  0.517000  0.55500  0.61200   \n",
       "M%        1456.0  0.437014  0.057026  0.3030  0.388000  0.44500  0.48300   \n",
       "White%    1456.0  0.685083  0.222943  0.0069  0.510500  0.74750  0.86500   \n",
       "AfrA%     1437.0  0.159678  0.171398  0.0014  0.026200  0.09590  0.22000   \n",
       "His%      1381.0  0.030176  0.079633  0.0002  0.005200  0.01070  0.02210   \n",
       "Asian%    1403.0  0.063231  0.092205  0.0001  0.009000  0.02310  0.07525   \n",
       "Indig%    1375.0  0.022861  0.052325  0.0002  0.001100  0.00300  0.01495   \n",
       "Unknown%  1354.0  0.017128  0.036725  0.0001  0.005100  0.00775  0.01290   \n",
       "\n",
       "            max  \n",
       "A%_<40    0.728  \n",
       "A%_40-64  0.675  \n",
       "A%_65-84  0.833  \n",
       "A%_85+    0.278  \n",
       "F%        0.697  \n",
       "M%        0.565  \n",
       "White%    0.985  \n",
       "AfrA%     0.897  \n",
       "His%      0.609  \n",
       "Asian%    0.521  \n",
       "Indig%    0.336  \n",
       "Unknown%  0.308  "
      ]
     },
     "execution_count": 10,
     "metadata": {},
     "output_type": "execute_result"
    }
   ],
   "source": [
    "dfc[[\"A%_<40\", \"A%_40-64\", \"A%_65-84\", \"A%_85+\", \"F%\", \"M%\", \"White%\", \"AfrA%\",\"His%\",\"Asian%\",\"Indig%\",\"Unknown%\"]].describe().T"
   ]
  },
  {
   "cell_type": "markdown",
   "metadata": {},
   "source": [
    "#### Analysis\n",
    "- For age categories, the mean percentage for age categories is >100% based on missing data from the 65-84 and 85+ groupings. This would most likely arise from Medicare not having this information for the 65+ crowd\n",
    "- Of the data that is present, the majority is still skewed towards 65+ suggesting that there is a greater reliance that falls under Medicare than Medicaid.\n",
    "- Women were more often enrolled (56.3%) presumably because there are a greater number of women alive, life expectancy is longer, and generally incomes are less which might make more women eligble for Medicaid.\n",
    "- Not much can be gleaned from the ethnicity as this is not normalized to ethnicity population size year over year. To be able to get a true estimate, it would involve taking total participants and multiplying by ethnic percentage to get a total number of people enrolled in Medicare/Medicaid then dividing total number of people by the yearly national census numbers when controlling for ethnicity."
   ]
  },
  {
   "cell_type": "code",
   "execution_count": null,
   "metadata": {},
   "outputs": [],
   "source": []
  },
  {
   "cell_type": "code",
   "execution_count": null,
   "metadata": {},
   "outputs": [],
   "source": []
  },
  {
   "cell_type": "markdown",
   "metadata": {},
   "source": [
    "## Code Shrapnel"
   ]
  },
  {
   "cell_type": "code",
   "execution_count": null,
   "metadata": {},
   "outputs": [],
   "source": [
    "df.loc[(df['Year'] == 2006) & (df['State'] == 'CA')]\n",
    "c_df.loc[c_df['Region'] == 'West']\n",
    "\n",
    "\n",
    "## Creating dataframes based on the year of the Medicare data\n",
    "df1 = pd.read_excel('../data/raw/group36_MedicareData.xlsx', sheet_name='PUF_2006', header=1)\n",
    "df2 = pd.read_excel('../data/raw/group36_MedicareData.xlsx', sheet_name='PUF_2007', header=1)\n",
    "df3 = pd.read_excel('../data/raw/group36_MedicareData.xlsx', sheet_name='PUF_2008', header=1)\n",
    "df4 = pd.read_excel('../data/raw/group36_MedicareData.xlsx', sheet_name='PUF_2009', header=1)\n",
    "df5 = pd.read_excel('../data/raw/group36_MedicareData.xlsx', sheet_name='PUF_2010', header=1)\n",
    "df6 = pd.read_excel('../data/raw/group36_MedicareData.xlsx', sheet_name='PUF_2011', header=1)\n",
    "df7 = pd.read_excel('../data/raw/group36_MedicareData.xlsx', sheet_name='PUF_2012', header=1)\n",
    "\n",
    "## Creating an index column based on the year of the Medicare data\n",
    "df1['Year'] = 2006\n",
    "df2['Year'] = 2007\n",
    "df3['Year'] = 2008\n",
    "df4['Year'] = 2009\n",
    "df5['Year'] = 2010\n",
    "df6['Year'] = 2011\n",
    "df7['Year'] = 2012\n",
    "\n",
    "## Concatenating dataframes together to be read as a single sheet\n",
    "frames = [df1, df2, df3, df4, df5, df6, df7]\n",
    "data = pd.concat(frames)\n",
    "\n",
    "#Rearrange columns in dataframe such that year because first column\n",
    "cols = list(data.columns)\n",
    "cols = [cols[-1]] + cols [:-1]\n",
    "df = data[cols]\n",
    "\n",
    "\n",
    "c_df = c_df.rename(columns={\"Percent of people who have had a heart attack\" : \"heartattack%\", \"Percent of people with atrial fibrillation\" : \"af%\", \"Percent of people with heart failure\" : \"hf%\", \\\n",
    "                     \"Percent of people with diabetes\" : \"dm%\", \"Percent of people with high cholesterol\" : \"hc%\", \"Percent of people with hypertension\" : \"hyp%\", \\\n",
    "                     \"Percent of people with ischemic heart disease\" : \"ihd%\", \"Percent of people with stroke or TIA\" : \"strokeorTIA%\", \"Percent of people with obesity\" : \"obesity%\", \\\n",
    "                     \"Percent of people with peripheral vascular disease\" : \"pad%\"})\n",
    "\n",
    "c_df = dfu[[\"State\", \"Number of People by Medicare-Medicaid Enrollment Type\", \"Number of People\", \"Number of People with FFS\", \"Number of Females with FFS\", \"Number of Males with FFS\", \\\n",
    "                \"Percent under 40 Years\", \"Percent between 40-64 Years\", \"Percent between 65-84 Years\", \"Percent 85+ Years\", \"Percent Female\", \"Percent Male\", \"Percent Non-Hispanic White\", \\\n",
    "                \"Percent African American\", \"Percent Hispanic\", \"Percent Asian or Pacific Islander\", \"Percent American Indian or Alaska Native\", \"Percent Other or Unknown Race\", \\\n",
    "                \"Percent of people who have had a heart attack\", \"Percent of people with atrial fibrillation\", \"Percent of people with heart failure\", \"Percent of people with diabetes\", \\\n",
    "                \"Percent of people with high cholesterol\", \"Percent of people with hypertension\", \"Percent of people with ischemic heart disease\", \"Percent of people with stroke or TIA\", \\\n",
    "                \"Percent of people with obesity\", \"Percent of people with peripheral vascular disease\", \"Number of FFS people who used Medicare procedures\", \\\n",
    "                \"Number of FFS people who used Medicare imaging services\", \"Number of FFS people who used Medicare laboratory/testing services\", \"Number of FFS people who used Medicare durable medical equipment\", \\\n",
    "                \"Number of people who used Medicare Part D prescription drugs\", \"Total Medicare payments\", \"Total Medicare IP Hospital FFS payments\", \"Total Medicare Other IP Hospital FFS payments\", \\\n",
    "                \"Total Medicare Part B drug FFS payments\", \"Total Medicare procedure FFS payments\", \"Total Medicare imaging FFS payments\", \"Total Medicare durable medical equipment FFS payments\", \\\n",
    "                \"Total Medicare Part D prescription drug FFS costs (total RX cost)\", \"Number of FFS people who used Medicaid lab/xray services\", \"Number of FFS people who used Medicaid durable medical equipment services\", \\\n",
    "                \"Number of FFS people who used Medicaid drugs\", \"Number of FFS people who used Medicaid clinic services\", \"Total Medicaid FFS payments\", \"Total Medicaid lab/xray FFS payments\", \\\n",
    "                \"Total Medicaid durable medical equipment FFS payments\", \"Total Medicaid drug FFS payments\", \"Total Medicaid clinic payments\"]]\n",
    "\n",
    "##Grouping US States by Region\n",
    "#Midwest US Region\n",
    "c_df.loc[(c_df['State'] == 'ND') | (c_df['State'] == 'SD') | (c_df['State'] == 'NE') | (c_df['State'] == 'KS') | (c_df['State'] == 'MN') | (c_df['State'] == 'IA') | (c_df['State'] == 'MO') | (c_df['State'] == 'WI') | (c_df['State'] == 'IL') | (c_df['State'] == 'MI') | (c_df['State'] == 'IN') | (c_df['State'] == 'OH'), 'Region'] = 'Midwest'\n",
    "#Northeast US Region\n",
    "c_df.loc[(c_df['State'] == 'ME') | (c_df['State'] == 'DC') | (c_df['State'] == 'DE') | (c_df['State'] == 'VA') |(c_df['State'] == 'NH') | (c_df['State'] == 'VT') | (c_df['State'] == 'MA') | (c_df['State'] == 'RI') | (c_df['State'] == 'CT') | (c_df['State'] == 'NY') | (c_df['State'] == 'PA') | (c_df['State'] == 'NJ'), 'Region'] = 'Northeast'\n",
    "#Southeast US Region\n",
    "c_df.loc[(c_df['State'] == 'KY') | (c_df['State'] == 'LA') | (c_df['State'] == 'AR') | (c_df['State'] == 'TN') | (c_df['State'] == 'MS') | (c_df['State'] == 'WV') | (c_df['State'] == 'NC') | (c_df['State'] == 'AL') | (c_df['State'] == 'MD') | (c_df['State'] == 'SC') | (c_df['State'] == 'GA') | (c_df['State'] == 'FL'), 'Region'] = 'Southeast'\n",
    "#Southwest US Region\n",
    "c_df.loc[(c_df['State'] == 'AZ') | (c_df['State'] == 'NM') | (c_df['State'] == 'OK') | (c_df['State'] == 'TX'), 'Region'] = 'Southwest'\n",
    "#West US Region\n",
    "c_df.loc[(c_df['State'] == 'WA') | (c_df['State'] == 'OR') | (c_df['State'] == 'CA') | (c_df['State'] == 'HI') | (c_df['State'] == 'AK') | (c_df['State'] == 'ID') | (c_df['State'] == 'NV') | (c_df['State'] == 'MT') | (c_df['State'] == 'WY') | (c_df['State'] == 'UT') | (c_df['State'] == 'CO'), 'Region'] = 'West'\n",
    "#National\n",
    "c_df.loc[(c_df['State'] == 'National'), 'Region'] = 'NaN'"
   ]
  }
 ],
 "metadata": {
  "kernelspec": {
   "display_name": "Python 3 (ipykernel)",
   "language": "python",
   "name": "python3"
  },
  "language_info": {
   "codemirror_mode": {
    "name": "ipython",
    "version": 3
   },
   "file_extension": ".py",
   "mimetype": "text/x-python",
   "name": "python",
   "nbconvert_exporter": "python",
   "pygments_lexer": "ipython3",
   "version": "3.9.5"
  }
 },
 "nbformat": 4,
 "nbformat_minor": 4
}
