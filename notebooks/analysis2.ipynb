{
 "cells": [
  {
   "cell_type": "markdown",
   "source": [
    "# Quinn Ingham"
   ],
   "metadata": {}
  },
  {
   "cell_type": "markdown",
   "source": [
    "## Research question/interests\n",
    "\n",
    "Like many, I have a desire to better understand the American healthcare system. In particular, my source of interest is/are healthcare benefits, and the according barriers to entry.\n",
    "\n",
    " The goal of this study is to explore various forms of representation (poverty-relation, race/ethnicity, gender) in the American healthcare system, as it applies to Medicare-Medicaid benefits received; to be specific, I want to:\n",
    " \n",
    " 1. Quantify how this representation has changed over time (by benefit type); \n",
    " 2. Identify whether this representation relates to the state (or if it is independent of the state); \n",
    " 3. Determine if the changes observed in the data are consistent with changes in population (by state --> by demographic). \n",
    " \n",
    " The scope of this study will cover the United States, spanning the years 2006-2012. "
   ],
   "metadata": {}
  },
  {
   "cell_type": "code",
   "execution_count": null,
   "source": [
    "import pandas as pd\n",
    "import numpy as np\n",
    "import seaborn as sns\n",
    "\n",
    "mydata = pd.read_csv('../data/processed/concat_data.csv')\n",
    "\n"
   ],
   "outputs": [],
   "metadata": {}
  }
 ],
 "metadata": {
  "orig_nbformat": 4,
  "language_info": {
   "name": "plaintext"
  }
 },
 "nbformat": 4,
 "nbformat_minor": 2
}